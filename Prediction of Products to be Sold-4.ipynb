{
 "cells": [
  {
   "cell_type": "code",
   "execution_count": 107,
   "id": "72a69467",
   "metadata": {},
   "outputs": [],
   "source": [
    "import pandas as pd\n",
    "import numpy as np\n",
    "import matplotlib.pyplot as plt\n",
    "import seaborn as sns\n",
    "import seaborn as seabornInstance\n",
    "from sklearn.model_selection import train_test_split\n",
    "from sklearn.cluster import KMeans\n",
    "from sklearn.preprocessing import StandardScaler\n",
    "from sklearn.preprocessing import LabelEncoder\n",
    "from sklearn.preprocessing import OneHotEncoder\n",
    "from sklearn.neighbors import KNeighborsClassifier\n",
    "from sklearn.ensemble import RandomForestClassifier\n",
    "from sklearn.model_selection import TimeSeriesSplit\n",
    "from sklearn.metrics import accuracy_score\n",
    "from sklearn.metrics import mean_squared_error, r2_score\n",
    "from sklearn.tree import DecisionTreeClassifier\n",
    "from statsmodels.tsa.holtwinters import SimpleExpSmoothing \n",
    "from statsmodels.tsa.holtwinters import Holt \n",
    "from statsmodels.tsa.holtwinters import ExponentialSmoothing \n",
    "from sklearn.metrics import confusion_matrix\n",
    "from sklearn.metrics import mean_squared_error\n",
    "from sklearn.ensemble import RandomForestRegressor\n",
    "from sklearn.tree import DecisionTreeRegressor\n",
    "\n",
    "import warnings\n",
    "warnings.filterwarnings('ignore')\n",
    "# TIMES SERIES LIBRARIES\n",
    "from sklearn.metrics import classification_report"
   ]
  },
  {
   "cell_type": "code",
   "execution_count": 2,
   "id": "536f666f",
   "metadata": {},
   "outputs": [],
   "source": [
    "#Reading the dataset\n",
    "dataset = pd.read_excel('DATASET_W.xlsx')"
   ]
  },
  {
   "cell_type": "code",
   "execution_count": 3,
   "id": "5dc7f553",
   "metadata": {},
   "outputs": [
    {
     "data": {
      "text/html": [
       "<div>\n",
       "<style scoped>\n",
       "    .dataframe tbody tr th:only-of-type {\n",
       "        vertical-align: middle;\n",
       "    }\n",
       "\n",
       "    .dataframe tbody tr th {\n",
       "        vertical-align: top;\n",
       "    }\n",
       "\n",
       "    .dataframe thead th {\n",
       "        text-align: right;\n",
       "    }\n",
       "</style>\n",
       "<table border=\"1\" class=\"dataframe\">\n",
       "  <thead>\n",
       "    <tr style=\"text-align: right;\">\n",
       "      <th></th>\n",
       "      <th>ORDER_ID</th>\n",
       "      <th>DATE</th>\n",
       "      <th>TIME</th>\n",
       "      <th>MENU_ITEM</th>\n",
       "      <th>MENU_CATEGORY</th>\n",
       "      <th>TEMP</th>\n",
       "      <th>SAUCE</th>\n",
       "      <th>MENU_PRICE</th>\n",
       "    </tr>\n",
       "  </thead>\n",
       "  <tbody>\n",
       "    <tr>\n",
       "      <th>0</th>\n",
       "      <td>81243</td>\n",
       "      <td>2023-03-03</td>\n",
       "      <td>LUNCH</td>\n",
       "      <td>PORTERHOUSE</td>\n",
       "      <td>MAIN</td>\n",
       "      <td>M</td>\n",
       "      <td>INCLUDED</td>\n",
       "      <td>98.0</td>\n",
       "    </tr>\n",
       "    <tr>\n",
       "      <th>1</th>\n",
       "      <td>81243</td>\n",
       "      <td>2023-03-03</td>\n",
       "      <td>LUNCH</td>\n",
       "      <td>INCLUDED</td>\n",
       "      <td>MAIN_SIDES</td>\n",
       "      <td>NaN</td>\n",
       "      <td>NaN</td>\n",
       "      <td>0.0</td>\n",
       "    </tr>\n",
       "    <tr>\n",
       "      <th>2</th>\n",
       "      <td>82246</td>\n",
       "      <td>2023-03-03</td>\n",
       "      <td>LUNCH</td>\n",
       "      <td>MEDALLIONS</td>\n",
       "      <td>MAIN</td>\n",
       "      <td>MR</td>\n",
       "      <td>NON_P</td>\n",
       "      <td>32.0</td>\n",
       "    </tr>\n",
       "    <tr>\n",
       "      <th>3</th>\n",
       "      <td>82246</td>\n",
       "      <td>2023-03-03</td>\n",
       "      <td>LUNCH</td>\n",
       "      <td>MEDALLIONS</td>\n",
       "      <td>MAIN</td>\n",
       "      <td>M</td>\n",
       "      <td>NON_P</td>\n",
       "      <td>32.0</td>\n",
       "    </tr>\n",
       "    <tr>\n",
       "      <th>4</th>\n",
       "      <td>82246</td>\n",
       "      <td>2023-03-03</td>\n",
       "      <td>LUNCH</td>\n",
       "      <td>RIBEYE</td>\n",
       "      <td>MAIN</td>\n",
       "      <td>M</td>\n",
       "      <td>BEARNAISE</td>\n",
       "      <td>47.0</td>\n",
       "    </tr>\n",
       "  </tbody>\n",
       "</table>\n",
       "</div>"
      ],
      "text/plain": [
       "   ORDER_ID       DATE   TIME    MENU_ITEM MENU_CATEGORY TEMP      SAUCE  \\\n",
       "0     81243 2023-03-03  LUNCH  PORTERHOUSE          MAIN    M   INCLUDED   \n",
       "1     81243 2023-03-03  LUNCH     INCLUDED    MAIN_SIDES  NaN        NaN   \n",
       "2     82246 2023-03-03  LUNCH   MEDALLIONS          MAIN   MR      NON_P   \n",
       "3     82246 2023-03-03  LUNCH   MEDALLIONS          MAIN    M      NON_P   \n",
       "4     82246 2023-03-03  LUNCH       RIBEYE          MAIN    M  BEARNAISE   \n",
       "\n",
       "   MENU_PRICE  \n",
       "0        98.0  \n",
       "1         0.0  \n",
       "2        32.0  \n",
       "3        32.0  \n",
       "4        47.0  "
      ]
     },
     "execution_count": 3,
     "metadata": {},
     "output_type": "execute_result"
    }
   ],
   "source": [
    "# displaying the first 10 rows in the DataFrame\n",
    "dataset.head()\n"
   ]
  },
  {
   "cell_type": "code",
   "execution_count": 4,
   "id": "1fdc39c3",
   "metadata": {},
   "outputs": [
    {
     "data": {
      "text/plain": [
       "Index(['ORDER_ID', 'DATE', 'TIME', 'MENU_ITEM', 'MENU_CATEGORY', 'TEMP',\n",
       "       'SAUCE', 'MENU_PRICE'],\n",
       "      dtype='object')"
      ]
     },
     "execution_count": 4,
     "metadata": {},
     "output_type": "execute_result"
    }
   ],
   "source": [
    "dataset.columns"
   ]
  },
  {
   "cell_type": "code",
   "execution_count": 5,
   "id": "eee13459",
   "metadata": {},
   "outputs": [
    {
     "data": {
      "text/plain": [
       "(2084, 8)"
      ]
     },
     "execution_count": 5,
     "metadata": {},
     "output_type": "execute_result"
    }
   ],
   "source": [
    "# displaying rows x columns.\n",
    "dataset.shape"
   ]
  },
  {
   "cell_type": "code",
   "execution_count": 6,
   "id": "f3806e42",
   "metadata": {},
   "outputs": [
    {
     "data": {
      "text/html": [
       "<div>\n",
       "<style scoped>\n",
       "    .dataframe tbody tr th:only-of-type {\n",
       "        vertical-align: middle;\n",
       "    }\n",
       "\n",
       "    .dataframe tbody tr th {\n",
       "        vertical-align: top;\n",
       "    }\n",
       "\n",
       "    .dataframe thead th {\n",
       "        text-align: right;\n",
       "    }\n",
       "</style>\n",
       "<table border=\"1\" class=\"dataframe\">\n",
       "  <thead>\n",
       "    <tr style=\"text-align: right;\">\n",
       "      <th></th>\n",
       "      <th>ORDER_ID</th>\n",
       "      <th>MENU_PRICE</th>\n",
       "    </tr>\n",
       "  </thead>\n",
       "  <tbody>\n",
       "    <tr>\n",
       "      <th>count</th>\n",
       "      <td>2084.000000</td>\n",
       "      <td>2084.000000</td>\n",
       "    </tr>\n",
       "    <tr>\n",
       "      <th>mean</th>\n",
       "      <td>186381.268714</td>\n",
       "      <td>21.840691</td>\n",
       "    </tr>\n",
       "    <tr>\n",
       "      <th>std</th>\n",
       "      <td>252947.112428</td>\n",
       "      <td>24.516756</td>\n",
       "    </tr>\n",
       "    <tr>\n",
       "      <th>min</th>\n",
       "      <td>101.000000</td>\n",
       "      <td>0.000000</td>\n",
       "    </tr>\n",
       "    <tr>\n",
       "      <th>25%</th>\n",
       "      <td>462.000000</td>\n",
       "      <td>0.000000</td>\n",
       "    </tr>\n",
       "    <tr>\n",
       "      <th>50%</th>\n",
       "      <td>98294.000000</td>\n",
       "      <td>10.000000</td>\n",
       "    </tr>\n",
       "    <tr>\n",
       "      <th>75%</th>\n",
       "      <td>191364.750000</td>\n",
       "      <td>44.000000</td>\n",
       "    </tr>\n",
       "    <tr>\n",
       "      <th>max</th>\n",
       "      <td>948474.000000</td>\n",
       "      <td>98.000000</td>\n",
       "    </tr>\n",
       "  </tbody>\n",
       "</table>\n",
       "</div>"
      ],
      "text/plain": [
       "            ORDER_ID   MENU_PRICE\n",
       "count    2084.000000  2084.000000\n",
       "mean   186381.268714    21.840691\n",
       "std    252947.112428    24.516756\n",
       "min       101.000000     0.000000\n",
       "25%       462.000000     0.000000\n",
       "50%     98294.000000    10.000000\n",
       "75%    191364.750000    44.000000\n",
       "max    948474.000000    98.000000"
      ]
     },
     "execution_count": 6,
     "metadata": {},
     "output_type": "execute_result"
    }
   ],
   "source": [
    "# showing the summary statistics of our numerical columns\n",
    "dataset.describe()"
   ]
  },
  {
   "cell_type": "code",
   "execution_count": 7,
   "id": "d433ea80",
   "metadata": {},
   "outputs": [
    {
     "name": "stdout",
     "output_type": "stream",
     "text": [
      "<class 'pandas.core.frame.DataFrame'>\n",
      "RangeIndex: 2084 entries, 0 to 2083\n",
      "Data columns (total 8 columns):\n",
      " #   Column         Non-Null Count  Dtype         \n",
      "---  ------         --------------  -----         \n",
      " 0   ORDER_ID       2084 non-null   int64         \n",
      " 1   DATE           2084 non-null   datetime64[ns]\n",
      " 2   TIME           2084 non-null   object        \n",
      " 3   MENU_ITEM      2084 non-null   object        \n",
      " 4   MENU_CATEGORY  2084 non-null   object        \n",
      " 5   TEMP           937 non-null    object        \n",
      " 6   SAUCE          936 non-null    object        \n",
      " 7   MENU_PRICE     2084 non-null   float64       \n",
      "dtypes: datetime64[ns](1), float64(1), int64(1), object(5)\n",
      "memory usage: 130.4+ KB\n"
     ]
    }
   ],
   "source": [
    "dataset.info()"
   ]
  },
  {
   "cell_type": "code",
   "execution_count": 8,
   "id": "841cb65f",
   "metadata": {},
   "outputs": [
    {
     "data": {
      "text/plain": [
       "<AxesSubplot:>"
      ]
     },
     "execution_count": 8,
     "metadata": {},
     "output_type": "execute_result"
    },
    {
     "data": {
      "image/png": "[encoded data removed]",
      "text/plain": [
       "<Figure size 360x216 with 2 Axes>"
      ]
     },
     "metadata": {
      "needs_background": "light"
     },
     "output_type": "display_data"
    }
   ],
   "source": [
    "plt.figure(figsize=(5,3))\n",
    "sns.heatmap(dataset.corr(),annot=True, cmap=\"Greens\")"
   ]
  },
  {
   "cell_type": "code",
   "execution_count": 9,
   "id": "85bcce2f",
   "metadata": {},
   "outputs": [
    {
     "data": {
      "text/html": [
       "<div>\n",
       "<style scoped>\n",
       "    .dataframe tbody tr th:only-of-type {\n",
       "        vertical-align: middle;\n",
       "    }\n",
       "\n",
       "    .dataframe tbody tr th {\n",
       "        vertical-align: top;\n",
       "    }\n",
       "\n",
       "    .dataframe thead th {\n",
       "        text-align: right;\n",
       "    }\n",
       "</style>\n",
       "<table border=\"1\" class=\"dataframe\">\n",
       "  <thead>\n",
       "    <tr style=\"text-align: right;\">\n",
       "      <th></th>\n",
       "      <th>MENU_ITEM</th>\n",
       "      <th>MENU_PRICE</th>\n",
       "    </tr>\n",
       "    <tr>\n",
       "      <th>ORDER_ID</th>\n",
       "      <th></th>\n",
       "      <th></th>\n",
       "    </tr>\n",
       "  </thead>\n",
       "  <tbody>\n",
       "    <tr>\n",
       "      <th>101</th>\n",
       "      <td>1</td>\n",
       "      <td>47.0</td>\n",
       "    </tr>\n",
       "    <tr>\n",
       "      <th>102</th>\n",
       "      <td>1</td>\n",
       "      <td>24.0</td>\n",
       "    </tr>\n",
       "    <tr>\n",
       "      <th>103</th>\n",
       "      <td>3</td>\n",
       "      <td>69.0</td>\n",
       "    </tr>\n",
       "    <tr>\n",
       "      <th>104</th>\n",
       "      <td>4</td>\n",
       "      <td>117.0</td>\n",
       "    </tr>\n",
       "    <tr>\n",
       "      <th>105</th>\n",
       "      <td>2</td>\n",
       "      <td>53.0</td>\n",
       "    </tr>\n",
       "    <tr>\n",
       "      <th>...</th>\n",
       "      <td>...</td>\n",
       "      <td>...</td>\n",
       "    </tr>\n",
       "    <tr>\n",
       "      <th>222</th>\n",
       "      <td>2</td>\n",
       "      <td>6.0</td>\n",
       "    </tr>\n",
       "    <tr>\n",
       "      <th>223</th>\n",
       "      <td>2</td>\n",
       "      <td>44.0</td>\n",
       "    </tr>\n",
       "    <tr>\n",
       "      <th>224</th>\n",
       "      <td>1</td>\n",
       "      <td>5.0</td>\n",
       "    </tr>\n",
       "    <tr>\n",
       "      <th>225</th>\n",
       "      <td>6</td>\n",
       "      <td>257.0</td>\n",
       "    </tr>\n",
       "    <tr>\n",
       "      <th>226</th>\n",
       "      <td>1</td>\n",
       "      <td>7.0</td>\n",
       "    </tr>\n",
       "  </tbody>\n",
       "</table>\n",
       "<p>100 rows × 2 columns</p>\n",
       "</div>"
      ],
      "text/plain": [
       "          MENU_ITEM  MENU_PRICE\n",
       "ORDER_ID                       \n",
       "101               1        47.0\n",
       "102               1        24.0\n",
       "103               3        69.0\n",
       "104               4       117.0\n",
       "105               2        53.0\n",
       "...             ...         ...\n",
       "222               2         6.0\n",
       "223               2        44.0\n",
       "224               1         5.0\n",
       "225               6       257.0\n",
       "226               1         7.0\n",
       "\n",
       "[100 rows x 2 columns]"
      ]
     },
     "execution_count": 9,
     "metadata": {},
     "output_type": "execute_result"
    }
   ],
   "source": [
    "# Grouping by ORDER_ID and count the number of MENU_ITEM in each group\n",
    "menu_counts = dataset.groupby('ORDER_ID')['MENU_ITEM'].count()\n",
    "\n",
    "# Grouping by ORDER_ID and sum the MENU_PRICE in each group\n",
    "menu_prices = dataset.groupby('ORDER_ID')['MENU_PRICE'].sum()\n",
    "\n",
    "# Combine the two Series into a single DataFrame\n",
    "result = pd.concat([menu_counts, menu_prices], axis=1)\n",
    "\n",
    "# Print the result\n",
    "result.head(100)"
   ]
  },
  {
   "cell_type": "markdown",
   "id": "ea862505",
   "metadata": {},
   "source": [
    "### Finding out how many orders we have"
   ]
  },
  {
   "cell_type": "code",
   "execution_count": 10,
   "id": "f301b0d2",
   "metadata": {},
   "outputs": [
    {
     "data": {
      "text/html": [
       "<div>\n",
       "<style scoped>\n",
       "    .dataframe tbody tr th:only-of-type {\n",
       "        vertical-align: middle;\n",
       "    }\n",
       "\n",
       "    .dataframe tbody tr th {\n",
       "        vertical-align: top;\n",
       "    }\n",
       "\n",
       "    .dataframe thead th {\n",
       "        text-align: right;\n",
       "    }\n",
       "</style>\n",
       "<table border=\"1\" class=\"dataframe\">\n",
       "  <thead>\n",
       "    <tr style=\"text-align: right;\">\n",
       "      <th></th>\n",
       "      <th>Items</th>\n",
       "      <th>Order</th>\n",
       "    </tr>\n",
       "  </thead>\n",
       "  <tbody>\n",
       "    <tr>\n",
       "      <th>ORDER_ID</th>\n",
       "      <td>46</td>\n",
       "      <td>627</td>\n",
       "    </tr>\n",
       "  </tbody>\n",
       "</table>\n",
       "</div>"
      ],
      "text/plain": [
       "          Items  Order\n",
       "ORDER_ID     46    627"
      ]
     },
     "execution_count": 10,
     "metadata": {},
     "output_type": "execute_result"
    }
   ],
   "source": [
    "pd.DataFrame([{'Items': len(dataset['MENU_ITEM'].value_counts()),    \n",
    "               'Order': len(dataset['ORDER_ID'].value_counts()),\n",
    "                 }], columns = ['Items', 'Order'], index = ['ORDER_ID'])"
   ]
  },
  {
   "cell_type": "markdown",
   "id": "0c0b196f",
   "metadata": {},
   "source": [
    "We can Observe a total of 627 ordres along with 46 unique item oredered. "
   ]
  },
  {
   "cell_type": "code",
   "execution_count": 11,
   "id": "2f5ac2eb",
   "metadata": {},
   "outputs": [],
   "source": [
    "\n",
    "dataset['DAY_OF_WEEK'] = dataset['DATE'].dt.day_name()"
   ]
  },
  {
   "cell_type": "code",
   "execution_count": 12,
   "id": "d308b36e",
   "metadata": {
    "scrolled": true
   },
   "outputs": [
    {
     "data": {
      "text/html": [
       "<div>\n",
       "<style scoped>\n",
       "    .dataframe tbody tr th:only-of-type {\n",
       "        vertical-align: middle;\n",
       "    }\n",
       "\n",
       "    .dataframe tbody tr th {\n",
       "        vertical-align: top;\n",
       "    }\n",
       "\n",
       "    .dataframe thead th {\n",
       "        text-align: right;\n",
       "    }\n",
       "</style>\n",
       "<table border=\"1\" class=\"dataframe\">\n",
       "  <thead>\n",
       "    <tr style=\"text-align: right;\">\n",
       "      <th></th>\n",
       "      <th>ORDER_ID</th>\n",
       "      <th>DATE</th>\n",
       "      <th>TIME</th>\n",
       "      <th>MENU_ITEM</th>\n",
       "      <th>MENU_CATEGORY</th>\n",
       "      <th>TEMP</th>\n",
       "      <th>SAUCE</th>\n",
       "      <th>MENU_PRICE</th>\n",
       "      <th>DAY_OF_WEEK</th>\n",
       "    </tr>\n",
       "  </thead>\n",
       "  <tbody>\n",
       "    <tr>\n",
       "      <th>0</th>\n",
       "      <td>81243</td>\n",
       "      <td>2023-03-03</td>\n",
       "      <td>LUNCH</td>\n",
       "      <td>PORTERHOUSE</td>\n",
       "      <td>MAIN</td>\n",
       "      <td>M</td>\n",
       "      <td>INCLUDED</td>\n",
       "      <td>98.0</td>\n",
       "      <td>Friday</td>\n",
       "    </tr>\n",
       "    <tr>\n",
       "      <th>1</th>\n",
       "      <td>81243</td>\n",
       "      <td>2023-03-03</td>\n",
       "      <td>LUNCH</td>\n",
       "      <td>INCLUDED</td>\n",
       "      <td>MAIN_SIDES</td>\n",
       "      <td>NaN</td>\n",
       "      <td>NaN</td>\n",
       "      <td>0.0</td>\n",
       "      <td>Friday</td>\n",
       "    </tr>\n",
       "    <tr>\n",
       "      <th>2</th>\n",
       "      <td>82246</td>\n",
       "      <td>2023-03-03</td>\n",
       "      <td>LUNCH</td>\n",
       "      <td>MEDALLIONS</td>\n",
       "      <td>MAIN</td>\n",
       "      <td>MR</td>\n",
       "      <td>NON_P</td>\n",
       "      <td>32.0</td>\n",
       "      <td>Friday</td>\n",
       "    </tr>\n",
       "    <tr>\n",
       "      <th>3</th>\n",
       "      <td>82246</td>\n",
       "      <td>2023-03-03</td>\n",
       "      <td>LUNCH</td>\n",
       "      <td>MEDALLIONS</td>\n",
       "      <td>MAIN</td>\n",
       "      <td>M</td>\n",
       "      <td>NON_P</td>\n",
       "      <td>32.0</td>\n",
       "      <td>Friday</td>\n",
       "    </tr>\n",
       "    <tr>\n",
       "      <th>4</th>\n",
       "      <td>82246</td>\n",
       "      <td>2023-03-03</td>\n",
       "      <td>LUNCH</td>\n",
       "      <td>RIBEYE</td>\n",
       "      <td>MAIN</td>\n",
       "      <td>M</td>\n",
       "      <td>BEARNAISE</td>\n",
       "      <td>47.0</td>\n",
       "      <td>Friday</td>\n",
       "    </tr>\n",
       "    <tr>\n",
       "      <th>...</th>\n",
       "      <td>...</td>\n",
       "      <td>...</td>\n",
       "      <td>...</td>\n",
       "      <td>...</td>\n",
       "      <td>...</td>\n",
       "      <td>...</td>\n",
       "      <td>...</td>\n",
       "      <td>...</td>\n",
       "      <td>...</td>\n",
       "    </tr>\n",
       "    <tr>\n",
       "      <th>95</th>\n",
       "      <td>99297</td>\n",
       "      <td>2023-03-03</td>\n",
       "      <td>DINNER</td>\n",
       "      <td>GREEN BEANS</td>\n",
       "      <td>EXTRA_SIDE</td>\n",
       "      <td>NaN</td>\n",
       "      <td>NaN</td>\n",
       "      <td>6.0</td>\n",
       "      <td>Friday</td>\n",
       "    </tr>\n",
       "    <tr>\n",
       "      <th>96</th>\n",
       "      <td>99297</td>\n",
       "      <td>2023-03-03</td>\n",
       "      <td>DINNER</td>\n",
       "      <td>BROCCOLI</td>\n",
       "      <td>EXTRA_SIDE</td>\n",
       "      <td>NaN</td>\n",
       "      <td>NaN</td>\n",
       "      <td>7.0</td>\n",
       "      <td>Friday</td>\n",
       "    </tr>\n",
       "    <tr>\n",
       "      <th>97</th>\n",
       "      <td>99297</td>\n",
       "      <td>2023-03-03</td>\n",
       "      <td>DINNER</td>\n",
       "      <td>SPINACH</td>\n",
       "      <td>EXTRA_SIDE</td>\n",
       "      <td>NaN</td>\n",
       "      <td>NaN</td>\n",
       "      <td>6.0</td>\n",
       "      <td>Friday</td>\n",
       "    </tr>\n",
       "    <tr>\n",
       "      <th>98</th>\n",
       "      <td>99297</td>\n",
       "      <td>2023-03-03</td>\n",
       "      <td>DINNER</td>\n",
       "      <td>ONION RINGS</td>\n",
       "      <td>EXTRA_SIDE</td>\n",
       "      <td>NaN</td>\n",
       "      <td>NaN</td>\n",
       "      <td>7.0</td>\n",
       "      <td>Friday</td>\n",
       "    </tr>\n",
       "    <tr>\n",
       "      <th>99</th>\n",
       "      <td>99297</td>\n",
       "      <td>2023-03-03</td>\n",
       "      <td>DINNER</td>\n",
       "      <td>CHIPS</td>\n",
       "      <td>MAIN_SIDES</td>\n",
       "      <td>NaN</td>\n",
       "      <td>NaN</td>\n",
       "      <td>0.0</td>\n",
       "      <td>Friday</td>\n",
       "    </tr>\n",
       "  </tbody>\n",
       "</table>\n",
       "<p>100 rows × 9 columns</p>\n",
       "</div>"
      ],
      "text/plain": [
       "    ORDER_ID       DATE    TIME    MENU_ITEM MENU_CATEGORY TEMP      SAUCE  \\\n",
       "0      81243 2023-03-03   LUNCH  PORTERHOUSE          MAIN    M   INCLUDED   \n",
       "1      81243 2023-03-03   LUNCH     INCLUDED    MAIN_SIDES  NaN        NaN   \n",
       "2      82246 2023-03-03   LUNCH   MEDALLIONS          MAIN   MR      NON_P   \n",
       "3      82246 2023-03-03   LUNCH   MEDALLIONS          MAIN    M      NON_P   \n",
       "4      82246 2023-03-03   LUNCH       RIBEYE          MAIN    M  BEARNAISE   \n",
       "..       ...        ...     ...          ...           ...  ...        ...   \n",
       "95     99297 2023-03-03  DINNER  GREEN BEANS    EXTRA_SIDE  NaN        NaN   \n",
       "96     99297 2023-03-03  DINNER     BROCCOLI    EXTRA_SIDE  NaN        NaN   \n",
       "97     99297 2023-03-03  DINNER      SPINACH    EXTRA_SIDE  NaN        NaN   \n",
       "98     99297 2023-03-03  DINNER  ONION RINGS    EXTRA_SIDE  NaN        NaN   \n",
       "99     99297 2023-03-03  DINNER        CHIPS    MAIN_SIDES  NaN        NaN   \n",
       "\n",
       "    MENU_PRICE DAY_OF_WEEK  \n",
       "0         98.0      Friday  \n",
       "1          0.0      Friday  \n",
       "2         32.0      Friday  \n",
       "3         32.0      Friday  \n",
       "4         47.0      Friday  \n",
       "..         ...         ...  \n",
       "95         6.0      Friday  \n",
       "96         7.0      Friday  \n",
       "97         6.0      Friday  \n",
       "98         7.0      Friday  \n",
       "99         0.0      Friday  \n",
       "\n",
       "[100 rows x 9 columns]"
      ]
     },
     "execution_count": 12,
     "metadata": {},
     "output_type": "execute_result"
    }
   ],
   "source": [
    "dataset.head(100)"
   ]
  },
  {
   "cell_type": "code",
   "execution_count": 13,
   "id": "36bcea8d",
   "metadata": {},
   "outputs": [],
   "source": [
    "# Criar a coluna 'day_type' com base na coluna 'day_of_week'\n",
    "dataset['DAY_TYPE'] = dataset['DAY_OF_WEEK'].apply(\n",
    "    lambda x: 'WEEKDAY' if x in ['Monday', 'Tuesday', 'Wednesday', \n",
    "    'Thursday', 'Friday'] else 'WEEKEND')\n",
    "\n"
   ]
  },
  {
   "cell_type": "code",
   "execution_count": 14,
   "id": "a761bb38",
   "metadata": {},
   "outputs": [
    {
     "data": {
      "text/html": [
       "<div>\n",
       "<style scoped>\n",
       "    .dataframe tbody tr th:only-of-type {\n",
       "        vertical-align: middle;\n",
       "    }\n",
       "\n",
       "    .dataframe tbody tr th {\n",
       "        vertical-align: top;\n",
       "    }\n",
       "\n",
       "    .dataframe thead th {\n",
       "        text-align: right;\n",
       "    }\n",
       "</style>\n",
       "<table border=\"1\" class=\"dataframe\">\n",
       "  <thead>\n",
       "    <tr style=\"text-align: right;\">\n",
       "      <th></th>\n",
       "      <th>ORDER_ID</th>\n",
       "      <th>DATE</th>\n",
       "      <th>TIME</th>\n",
       "      <th>MENU_ITEM</th>\n",
       "      <th>MENU_CATEGORY</th>\n",
       "      <th>TEMP</th>\n",
       "      <th>SAUCE</th>\n",
       "      <th>MENU_PRICE</th>\n",
       "      <th>DAY_OF_WEEK</th>\n",
       "      <th>DAY_TYPE</th>\n",
       "    </tr>\n",
       "  </thead>\n",
       "  <tbody>\n",
       "    <tr>\n",
       "      <th>0</th>\n",
       "      <td>81243</td>\n",
       "      <td>2023-03-03</td>\n",
       "      <td>LUNCH</td>\n",
       "      <td>PORTERHOUSE</td>\n",
       "      <td>MAIN</td>\n",
       "      <td>M</td>\n",
       "      <td>INCLUDED</td>\n",
       "      <td>98.0</td>\n",
       "      <td>Friday</td>\n",
       "      <td>WEEKDAY</td>\n",
       "    </tr>\n",
       "    <tr>\n",
       "      <th>1</th>\n",
       "      <td>81243</td>\n",
       "      <td>2023-03-03</td>\n",
       "      <td>LUNCH</td>\n",
       "      <td>INCLUDED</td>\n",
       "      <td>MAIN_SIDES</td>\n",
       "      <td>NaN</td>\n",
       "      <td>NaN</td>\n",
       "      <td>0.0</td>\n",
       "      <td>Friday</td>\n",
       "      <td>WEEKDAY</td>\n",
       "    </tr>\n",
       "    <tr>\n",
       "      <th>2</th>\n",
       "      <td>82246</td>\n",
       "      <td>2023-03-03</td>\n",
       "      <td>LUNCH</td>\n",
       "      <td>MEDALLIONS</td>\n",
       "      <td>MAIN</td>\n",
       "      <td>MR</td>\n",
       "      <td>NON_P</td>\n",
       "      <td>32.0</td>\n",
       "      <td>Friday</td>\n",
       "      <td>WEEKDAY</td>\n",
       "    </tr>\n",
       "    <tr>\n",
       "      <th>3</th>\n",
       "      <td>82246</td>\n",
       "      <td>2023-03-03</td>\n",
       "      <td>LUNCH</td>\n",
       "      <td>MEDALLIONS</td>\n",
       "      <td>MAIN</td>\n",
       "      <td>M</td>\n",
       "      <td>NON_P</td>\n",
       "      <td>32.0</td>\n",
       "      <td>Friday</td>\n",
       "      <td>WEEKDAY</td>\n",
       "    </tr>\n",
       "    <tr>\n",
       "      <th>4</th>\n",
       "      <td>82246</td>\n",
       "      <td>2023-03-03</td>\n",
       "      <td>LUNCH</td>\n",
       "      <td>RIBEYE</td>\n",
       "      <td>MAIN</td>\n",
       "      <td>M</td>\n",
       "      <td>BEARNAISE</td>\n",
       "      <td>47.0</td>\n",
       "      <td>Friday</td>\n",
       "      <td>WEEKDAY</td>\n",
       "    </tr>\n",
       "    <tr>\n",
       "      <th>...</th>\n",
       "      <td>...</td>\n",
       "      <td>...</td>\n",
       "      <td>...</td>\n",
       "      <td>...</td>\n",
       "      <td>...</td>\n",
       "      <td>...</td>\n",
       "      <td>...</td>\n",
       "      <td>...</td>\n",
       "      <td>...</td>\n",
       "      <td>...</td>\n",
       "    </tr>\n",
       "    <tr>\n",
       "      <th>95</th>\n",
       "      <td>99297</td>\n",
       "      <td>2023-03-03</td>\n",
       "      <td>DINNER</td>\n",
       "      <td>GREEN BEANS</td>\n",
       "      <td>EXTRA_SIDE</td>\n",
       "      <td>NaN</td>\n",
       "      <td>NaN</td>\n",
       "      <td>6.0</td>\n",
       "      <td>Friday</td>\n",
       "      <td>WEEKDAY</td>\n",
       "    </tr>\n",
       "    <tr>\n",
       "      <th>96</th>\n",
       "      <td>99297</td>\n",
       "      <td>2023-03-03</td>\n",
       "      <td>DINNER</td>\n",
       "      <td>BROCCOLI</td>\n",
       "      <td>EXTRA_SIDE</td>\n",
       "      <td>NaN</td>\n",
       "      <td>NaN</td>\n",
       "      <td>7.0</td>\n",
       "      <td>Friday</td>\n",
       "      <td>WEEKDAY</td>\n",
       "    </tr>\n",
       "    <tr>\n",
       "      <th>97</th>\n",
       "      <td>99297</td>\n",
       "      <td>2023-03-03</td>\n",
       "      <td>DINNER</td>\n",
       "      <td>SPINACH</td>\n",
       "      <td>EXTRA_SIDE</td>\n",
       "      <td>NaN</td>\n",
       "      <td>NaN</td>\n",
       "      <td>6.0</td>\n",
       "      <td>Friday</td>\n",
       "      <td>WEEKDAY</td>\n",
       "    </tr>\n",
       "    <tr>\n",
       "      <th>98</th>\n",
       "      <td>99297</td>\n",
       "      <td>2023-03-03</td>\n",
       "      <td>DINNER</td>\n",
       "      <td>ONION RINGS</td>\n",
       "      <td>EXTRA_SIDE</td>\n",
       "      <td>NaN</td>\n",
       "      <td>NaN</td>\n",
       "      <td>7.0</td>\n",
       "      <td>Friday</td>\n",
       "      <td>WEEKDAY</td>\n",
       "    </tr>\n",
       "    <tr>\n",
       "      <th>99</th>\n",
       "      <td>99297</td>\n",
       "      <td>2023-03-03</td>\n",
       "      <td>DINNER</td>\n",
       "      <td>CHIPS</td>\n",
       "      <td>MAIN_SIDES</td>\n",
       "      <td>NaN</td>\n",
       "      <td>NaN</td>\n",
       "      <td>0.0</td>\n",
       "      <td>Friday</td>\n",
       "      <td>WEEKDAY</td>\n",
       "    </tr>\n",
       "  </tbody>\n",
       "</table>\n",
       "<p>100 rows × 10 columns</p>\n",
       "</div>"
      ],
      "text/plain": [
       "    ORDER_ID       DATE    TIME    MENU_ITEM MENU_CATEGORY TEMP      SAUCE  \\\n",
       "0      81243 2023-03-03   LUNCH  PORTERHOUSE          MAIN    M   INCLUDED   \n",
       "1      81243 2023-03-03   LUNCH     INCLUDED    MAIN_SIDES  NaN        NaN   \n",
       "2      82246 2023-03-03   LUNCH   MEDALLIONS          MAIN   MR      NON_P   \n",
       "3      82246 2023-03-03   LUNCH   MEDALLIONS          MAIN    M      NON_P   \n",
       "4      82246 2023-03-03   LUNCH       RIBEYE          MAIN    M  BEARNAISE   \n",
       "..       ...        ...     ...          ...           ...  ...        ...   \n",
       "95     99297 2023-03-03  DINNER  GREEN BEANS    EXTRA_SIDE  NaN        NaN   \n",
       "96     99297 2023-03-03  DINNER     BROCCOLI    EXTRA_SIDE  NaN        NaN   \n",
       "97     99297 2023-03-03  DINNER      SPINACH    EXTRA_SIDE  NaN        NaN   \n",
       "98     99297 2023-03-03  DINNER  ONION RINGS    EXTRA_SIDE  NaN        NaN   \n",
       "99     99297 2023-03-03  DINNER        CHIPS    MAIN_SIDES  NaN        NaN   \n",
       "\n",
       "    MENU_PRICE DAY_OF_WEEK DAY_TYPE  \n",
       "0         98.0      Friday  WEEKDAY  \n",
       "1          0.0      Friday  WEEKDAY  \n",
       "2         32.0      Friday  WEEKDAY  \n",
       "3         32.0      Friday  WEEKDAY  \n",
       "4         47.0      Friday  WEEKDAY  \n",
       "..         ...         ...      ...  \n",
       "95         6.0      Friday  WEEKDAY  \n",
       "96         7.0      Friday  WEEKDAY  \n",
       "97         6.0      Friday  WEEKDAY  \n",
       "98         7.0      Friday  WEEKDAY  \n",
       "99         0.0      Friday  WEEKDAY  \n",
       "\n",
       "[100 rows x 10 columns]"
      ]
     },
     "execution_count": 14,
     "metadata": {},
     "output_type": "execute_result"
    }
   ],
   "source": [
    "dataset.head(100)"
   ]
  },
  {
   "cell_type": "code",
   "execution_count": 15,
   "id": "1323b35e",
   "metadata": {},
   "outputs": [],
   "source": [
    "# Creating a new column called \"quantity\" with the count of each MENU_ITEM in each ORDER_ID\n",
    "dataset['QUANTITY'] = dataset.groupby(['ORDER_ID', 'MENU_ITEM'])['MENU_ITEM'].transform('count')\n",
    "#dataset = dataset.drop_duplicates()\n"
   ]
  },
  {
   "cell_type": "code",
   "execution_count": 16,
   "id": "736b0e9d",
   "metadata": {},
   "outputs": [
    {
     "data": {
      "text/html": [
       "<div>\n",
       "<style scoped>\n",
       "    .dataframe tbody tr th:only-of-type {\n",
       "        vertical-align: middle;\n",
       "    }\n",
       "\n",
       "    .dataframe tbody tr th {\n",
       "        vertical-align: top;\n",
       "    }\n",
       "\n",
       "    .dataframe thead th {\n",
       "        text-align: right;\n",
       "    }\n",
       "</style>\n",
       "<table border=\"1\" class=\"dataframe\">\n",
       "  <thead>\n",
       "    <tr style=\"text-align: right;\">\n",
       "      <th></th>\n",
       "      <th>ORDER_ID</th>\n",
       "      <th>DATE</th>\n",
       "      <th>TIME</th>\n",
       "      <th>MENU_ITEM</th>\n",
       "      <th>MENU_CATEGORY</th>\n",
       "      <th>TEMP</th>\n",
       "      <th>SAUCE</th>\n",
       "      <th>MENU_PRICE</th>\n",
       "      <th>DAY_OF_WEEK</th>\n",
       "      <th>DAY_TYPE</th>\n",
       "      <th>QUANTITY</th>\n",
       "    </tr>\n",
       "  </thead>\n",
       "  <tbody>\n",
       "    <tr>\n",
       "      <th>0</th>\n",
       "      <td>81243</td>\n",
       "      <td>2023-03-03</td>\n",
       "      <td>LUNCH</td>\n",
       "      <td>PORTERHOUSE</td>\n",
       "      <td>MAIN</td>\n",
       "      <td>M</td>\n",
       "      <td>INCLUDED</td>\n",
       "      <td>98.0</td>\n",
       "      <td>Friday</td>\n",
       "      <td>WEEKDAY</td>\n",
       "      <td>1</td>\n",
       "    </tr>\n",
       "    <tr>\n",
       "      <th>1</th>\n",
       "      <td>81243</td>\n",
       "      <td>2023-03-03</td>\n",
       "      <td>LUNCH</td>\n",
       "      <td>INCLUDED</td>\n",
       "      <td>MAIN_SIDES</td>\n",
       "      <td>NaN</td>\n",
       "      <td>NaN</td>\n",
       "      <td>0.0</td>\n",
       "      <td>Friday</td>\n",
       "      <td>WEEKDAY</td>\n",
       "      <td>1</td>\n",
       "    </tr>\n",
       "    <tr>\n",
       "      <th>2</th>\n",
       "      <td>82246</td>\n",
       "      <td>2023-03-03</td>\n",
       "      <td>LUNCH</td>\n",
       "      <td>MEDALLIONS</td>\n",
       "      <td>MAIN</td>\n",
       "      <td>MR</td>\n",
       "      <td>NON_P</td>\n",
       "      <td>32.0</td>\n",
       "      <td>Friday</td>\n",
       "      <td>WEEKDAY</td>\n",
       "      <td>2</td>\n",
       "    </tr>\n",
       "    <tr>\n",
       "      <th>3</th>\n",
       "      <td>82246</td>\n",
       "      <td>2023-03-03</td>\n",
       "      <td>LUNCH</td>\n",
       "      <td>MEDALLIONS</td>\n",
       "      <td>MAIN</td>\n",
       "      <td>M</td>\n",
       "      <td>NON_P</td>\n",
       "      <td>32.0</td>\n",
       "      <td>Friday</td>\n",
       "      <td>WEEKDAY</td>\n",
       "      <td>2</td>\n",
       "    </tr>\n",
       "    <tr>\n",
       "      <th>4</th>\n",
       "      <td>82246</td>\n",
       "      <td>2023-03-03</td>\n",
       "      <td>LUNCH</td>\n",
       "      <td>RIBEYE</td>\n",
       "      <td>MAIN</td>\n",
       "      <td>M</td>\n",
       "      <td>BEARNAISE</td>\n",
       "      <td>47.0</td>\n",
       "      <td>Friday</td>\n",
       "      <td>WEEKDAY</td>\n",
       "      <td>2</td>\n",
       "    </tr>\n",
       "  </tbody>\n",
       "</table>\n",
       "</div>"
      ],
      "text/plain": [
       "   ORDER_ID       DATE   TIME    MENU_ITEM MENU_CATEGORY TEMP      SAUCE  \\\n",
       "0     81243 2023-03-03  LUNCH  PORTERHOUSE          MAIN    M   INCLUDED   \n",
       "1     81243 2023-03-03  LUNCH     INCLUDED    MAIN_SIDES  NaN        NaN   \n",
       "2     82246 2023-03-03  LUNCH   MEDALLIONS          MAIN   MR      NON_P   \n",
       "3     82246 2023-03-03  LUNCH   MEDALLIONS          MAIN    M      NON_P   \n",
       "4     82246 2023-03-03  LUNCH       RIBEYE          MAIN    M  BEARNAISE   \n",
       "\n",
       "   MENU_PRICE DAY_OF_WEEK DAY_TYPE  QUANTITY  \n",
       "0        98.0      Friday  WEEKDAY         1  \n",
       "1         0.0      Friday  WEEKDAY         1  \n",
       "2        32.0      Friday  WEEKDAY         2  \n",
       "3        32.0      Friday  WEEKDAY         2  \n",
       "4        47.0      Friday  WEEKDAY         2  "
      ]
     },
     "execution_count": 16,
     "metadata": {},
     "output_type": "execute_result"
    }
   ],
   "source": [
    "dataset.head()"
   ]
  },
  {
   "cell_type": "code",
   "execution_count": 17,
   "id": "d4be615e",
   "metadata": {},
   "outputs": [
    {
     "data": {
      "text/plain": [
       "(2084, 11)"
      ]
     },
     "execution_count": 17,
     "metadata": {},
     "output_type": "execute_result"
    }
   ],
   "source": [
    "dataset.shape"
   ]
  },
  {
   "cell_type": "code",
   "execution_count": 18,
   "id": "12e35da5",
   "metadata": {},
   "outputs": [
    {
     "name": "stdout",
     "output_type": "stream",
     "text": [
      "ORDER_ID            0\n",
      "DATE                0\n",
      "TIME                0\n",
      "MENU_ITEM           0\n",
      "MENU_CATEGORY       0\n",
      "TEMP             1147\n",
      "SAUCE            1148\n",
      "MENU_PRICE          0\n",
      "DAY_OF_WEEK         0\n",
      "DAY_TYPE            0\n",
      "QUANTITY            0\n",
      "dtype: int64\n"
     ]
    }
   ],
   "source": [
    "#checking for missing values\n",
    "\n",
    "print(dataset.isnull().sum())"
   ]
  },
  {
   "cell_type": "code",
   "execution_count": 19,
   "id": "2a7fb51d",
   "metadata": {},
   "outputs": [],
   "source": [
    "# Fill the 'category' column with 'N/A' for rows where it is not applicable\n",
    "dataset[['TEMP','SAUCE']] = dataset[['TEMP','SAUCE']].fillna('Not Applicable')"
   ]
  },
  {
   "cell_type": "code",
   "execution_count": 20,
   "id": "714ec868",
   "metadata": {},
   "outputs": [
    {
     "name": "stdout",
     "output_type": "stream",
     "text": [
      "ORDER_ID         0\n",
      "DATE             0\n",
      "TIME             0\n",
      "MENU_ITEM        0\n",
      "MENU_CATEGORY    0\n",
      "TEMP             0\n",
      "SAUCE            0\n",
      "MENU_PRICE       0\n",
      "DAY_OF_WEEK      0\n",
      "DAY_TYPE         0\n",
      "QUANTITY         0\n",
      "dtype: int64\n"
     ]
    }
   ],
   "source": [
    "print(dataset.isnull().sum())"
   ]
  },
  {
   "cell_type": "code",
   "execution_count": 21,
   "id": "4c186cdf",
   "metadata": {},
   "outputs": [],
   "source": [
    "dataset.to_csv('explo_dataset_saved.csv', index=False)"
   ]
  },
  {
   "cell_type": "code",
   "execution_count": 22,
   "id": "564c63c4",
   "metadata": {},
   "outputs": [
    {
     "data": {
      "image/png": "[encoded data removed]",
      "text/plain": [
       "<Figure size 864x432 with 1 Axes>"
      ]
     },
     "metadata": {
      "needs_background": "light"
     },
     "output_type": "display_data"
    }
   ],
   "source": [
    "\n",
    "counts = dataset['MENU_ITEM'].value_counts()\n",
    "# create a bar chart using the counts data\n",
    "fig, ax = plt.subplots(figsize=(12,6))\n",
    "ax.bar(counts.index, counts.values)\n",
    "\n",
    "# set the title and labels for the chart\n",
    "ax.set_title('Distribution of the Week')\n",
    "ax.set_xlabel('MENU ITEM')\n",
    "ax.set_ylabel('Count')\n",
    "\n",
    "# rotate the x-axis labels for better visibility\n",
    "plt.xticks(rotation=90)\n",
    "\n",
    "# display the chart\n",
    "plt.show()"
   ]
  },
  {
   "cell_type": "code",
   "execution_count": 23,
   "id": "0917f9dd",
   "metadata": {},
   "outputs": [
    {
     "data": {
      "image/png": "[encoded data removed]",
      "text/plain": [
       "<Figure size 1080x360 with 1 Axes>"
      ]
     },
     "metadata": {
      "needs_background": "light"
     },
     "output_type": "display_data"
    }
   ],
   "source": [
    "\n",
    "# Counting total of each 'MENU_CATEGORY'\n",
    "counts = dataset['MENU_CATEGORY'].value_counts()\n",
    "order = counts.index.tolist()\n",
    "plt.figure(figsize=(15,5))\n",
    "graph = sns.countplot('MENU_CATEGORY', data = dataset, order=order)\n",
    "graph.tick_params(axis='x', rotation=90)"
   ]
  },
  {
   "cell_type": "code",
   "execution_count": 24,
   "id": "006b34e7",
   "metadata": {},
   "outputs": [
    {
     "data": {
      "image/png": "[encoded data removed]",
      "text/plain": [
       "<Figure size 720x432 with 1 Axes>"
      ]
     },
     "metadata": {
      "needs_background": "light"
     },
     "output_type": "display_data"
    }
   ],
   "source": [
    "\n",
    "# Filter the dataset for MENU_CATEGORY equal to MAIN_SIDES\n",
    "main_sides_data = dataset[dataset['MENU_CATEGORY'] == 'MAIN_SIDES']\n",
    "\n",
    "# Count the frequency of each MENU_ITEM within MAIN_SIDES category\n",
    "menu_item_counts = main_sides_data['MENU_ITEM'].value_counts()\n",
    "\n",
    "# Plot the bar chart\n",
    "plt.figure(figsize=(10, 6))\n",
    "sns.barplot(x=menu_item_counts.index, y=menu_item_counts.values, palette='viridis')\n",
    "plt.xticks(rotation=45)\n",
    "plt.xlabel('MENU_ITEM')\n",
    "plt.ylabel('Frequency')\n",
    "plt.title('Most common sides Based on the Mains')\n",
    "plt.show()"
   ]
  },
  {
   "cell_type": "code",
   "execution_count": 25,
   "id": "70de22ac",
   "metadata": {},
   "outputs": [
    {
     "data": {
      "image/png": "[encoded data removed]",
      "text/plain": [
       "<Figure size 720x432 with 1 Axes>"
      ]
     },
     "metadata": {
      "needs_background": "light"
     },
     "output_type": "display_data"
    }
   ],
   "source": [
    "\n",
    "# Filter the dataset for MENU_CATEGORY equal to MAIN_SIDES\n",
    "main_sides_data = dataset[dataset['MENU_CATEGORY'] == 'MAIN']\n",
    "\n",
    "# Count the frequency of each MENU_ITEM within MAIN_SIDES category\n",
    "menu_item_counts = main_sides_data['MENU_ITEM'].value_counts()\n",
    "\n",
    "# Plot the bar chart\n",
    "plt.figure(figsize=(10, 6))\n",
    "sns.barplot(x=menu_item_counts.index, y=menu_item_counts.values, palette='viridis')\n",
    "plt.xticks(rotation=45)\n",
    "plt.xlabel('MENU_ITEM')\n",
    "plt.ylabel('Frequency')\n",
    "plt.title('Most common Main')\n",
    "plt.show()"
   ]
  },
  {
   "cell_type": "code",
   "execution_count": 26,
   "id": "f985935a",
   "metadata": {},
   "outputs": [],
   "source": [
    "explo_dataset_saved = dataset"
   ]
  },
  {
   "cell_type": "code",
   "execution_count": 27,
   "id": "4b339250",
   "metadata": {},
   "outputs": [
    {
     "data": {
      "text/html": [
       "<div>\n",
       "<style scoped>\n",
       "    .dataframe tbody tr th:only-of-type {\n",
       "        vertical-align: middle;\n",
       "    }\n",
       "\n",
       "    .dataframe tbody tr th {\n",
       "        vertical-align: top;\n",
       "    }\n",
       "\n",
       "    .dataframe thead th {\n",
       "        text-align: right;\n",
       "    }\n",
       "</style>\n",
       "<table border=\"1\" class=\"dataframe\">\n",
       "  <thead>\n",
       "    <tr style=\"text-align: right;\">\n",
       "      <th></th>\n",
       "      <th>ORDER_ID</th>\n",
       "      <th>DATE</th>\n",
       "      <th>TIME</th>\n",
       "      <th>MENU_ITEM</th>\n",
       "      <th>MENU_CATEGORY</th>\n",
       "      <th>TEMP</th>\n",
       "      <th>SAUCE</th>\n",
       "      <th>MENU_PRICE</th>\n",
       "      <th>DAY_OF_WEEK</th>\n",
       "      <th>DAY_TYPE</th>\n",
       "      <th>QUANTITY</th>\n",
       "    </tr>\n",
       "  </thead>\n",
       "  <tbody>\n",
       "    <tr>\n",
       "      <th>0</th>\n",
       "      <td>81243</td>\n",
       "      <td>2023-03-03</td>\n",
       "      <td>LUNCH</td>\n",
       "      <td>PORTERHOUSE</td>\n",
       "      <td>MAIN</td>\n",
       "      <td>M</td>\n",
       "      <td>INCLUDED</td>\n",
       "      <td>98.0</td>\n",
       "      <td>Friday</td>\n",
       "      <td>WEEKDAY</td>\n",
       "      <td>1</td>\n",
       "    </tr>\n",
       "    <tr>\n",
       "      <th>1</th>\n",
       "      <td>81243</td>\n",
       "      <td>2023-03-03</td>\n",
       "      <td>LUNCH</td>\n",
       "      <td>INCLUDED</td>\n",
       "      <td>MAIN_SIDES</td>\n",
       "      <td>Not Applicable</td>\n",
       "      <td>Not Applicable</td>\n",
       "      <td>0.0</td>\n",
       "      <td>Friday</td>\n",
       "      <td>WEEKDAY</td>\n",
       "      <td>1</td>\n",
       "    </tr>\n",
       "    <tr>\n",
       "      <th>2</th>\n",
       "      <td>82246</td>\n",
       "      <td>2023-03-03</td>\n",
       "      <td>LUNCH</td>\n",
       "      <td>MEDALLIONS</td>\n",
       "      <td>MAIN</td>\n",
       "      <td>MR</td>\n",
       "      <td>NON_P</td>\n",
       "      <td>32.0</td>\n",
       "      <td>Friday</td>\n",
       "      <td>WEEKDAY</td>\n",
       "      <td>2</td>\n",
       "    </tr>\n",
       "    <tr>\n",
       "      <th>3</th>\n",
       "      <td>82246</td>\n",
       "      <td>2023-03-03</td>\n",
       "      <td>LUNCH</td>\n",
       "      <td>MEDALLIONS</td>\n",
       "      <td>MAIN</td>\n",
       "      <td>M</td>\n",
       "      <td>NON_P</td>\n",
       "      <td>32.0</td>\n",
       "      <td>Friday</td>\n",
       "      <td>WEEKDAY</td>\n",
       "      <td>2</td>\n",
       "    </tr>\n",
       "    <tr>\n",
       "      <th>4</th>\n",
       "      <td>82246</td>\n",
       "      <td>2023-03-03</td>\n",
       "      <td>LUNCH</td>\n",
       "      <td>RIBEYE</td>\n",
       "      <td>MAIN</td>\n",
       "      <td>M</td>\n",
       "      <td>BEARNAISE</td>\n",
       "      <td>47.0</td>\n",
       "      <td>Friday</td>\n",
       "      <td>WEEKDAY</td>\n",
       "      <td>2</td>\n",
       "    </tr>\n",
       "    <tr>\n",
       "      <th>...</th>\n",
       "      <td>...</td>\n",
       "      <td>...</td>\n",
       "      <td>...</td>\n",
       "      <td>...</td>\n",
       "      <td>...</td>\n",
       "      <td>...</td>\n",
       "      <td>...</td>\n",
       "      <td>...</td>\n",
       "      <td>...</td>\n",
       "      <td>...</td>\n",
       "      <td>...</td>\n",
       "    </tr>\n",
       "    <tr>\n",
       "      <th>95</th>\n",
       "      <td>99297</td>\n",
       "      <td>2023-03-03</td>\n",
       "      <td>DINNER</td>\n",
       "      <td>GREEN BEANS</td>\n",
       "      <td>EXTRA_SIDE</td>\n",
       "      <td>Not Applicable</td>\n",
       "      <td>Not Applicable</td>\n",
       "      <td>6.0</td>\n",
       "      <td>Friday</td>\n",
       "      <td>WEEKDAY</td>\n",
       "      <td>1</td>\n",
       "    </tr>\n",
       "    <tr>\n",
       "      <th>96</th>\n",
       "      <td>99297</td>\n",
       "      <td>2023-03-03</td>\n",
       "      <td>DINNER</td>\n",
       "      <td>BROCCOLI</td>\n",
       "      <td>EXTRA_SIDE</td>\n",
       "      <td>Not Applicable</td>\n",
       "      <td>Not Applicable</td>\n",
       "      <td>7.0</td>\n",
       "      <td>Friday</td>\n",
       "      <td>WEEKDAY</td>\n",
       "      <td>1</td>\n",
       "    </tr>\n",
       "    <tr>\n",
       "      <th>97</th>\n",
       "      <td>99297</td>\n",
       "      <td>2023-03-03</td>\n",
       "      <td>DINNER</td>\n",
       "      <td>SPINACH</td>\n",
       "      <td>EXTRA_SIDE</td>\n",
       "      <td>Not Applicable</td>\n",
       "      <td>Not Applicable</td>\n",
       "      <td>6.0</td>\n",
       "      <td>Friday</td>\n",
       "      <td>WEEKDAY</td>\n",
       "      <td>1</td>\n",
       "    </tr>\n",
       "    <tr>\n",
       "      <th>98</th>\n",
       "      <td>99297</td>\n",
       "      <td>2023-03-03</td>\n",
       "      <td>DINNER</td>\n",
       "      <td>ONION RINGS</td>\n",
       "      <td>EXTRA_SIDE</td>\n",
       "      <td>Not Applicable</td>\n",
       "      <td>Not Applicable</td>\n",
       "      <td>7.0</td>\n",
       "      <td>Friday</td>\n",
       "      <td>WEEKDAY</td>\n",
       "      <td>1</td>\n",
       "    </tr>\n",
       "    <tr>\n",
       "      <th>99</th>\n",
       "      <td>99297</td>\n",
       "      <td>2023-03-03</td>\n",
       "      <td>DINNER</td>\n",
       "      <td>CHIPS</td>\n",
       "      <td>MAIN_SIDES</td>\n",
       "      <td>Not Applicable</td>\n",
       "      <td>Not Applicable</td>\n",
       "      <td>0.0</td>\n",
       "      <td>Friday</td>\n",
       "      <td>WEEKDAY</td>\n",
       "      <td>2</td>\n",
       "    </tr>\n",
       "  </tbody>\n",
       "</table>\n",
       "<p>100 rows × 11 columns</p>\n",
       "</div>"
      ],
      "text/plain": [
       "    ORDER_ID       DATE    TIME    MENU_ITEM MENU_CATEGORY            TEMP  \\\n",
       "0      81243 2023-03-03   LUNCH  PORTERHOUSE          MAIN               M   \n",
       "1      81243 2023-03-03   LUNCH     INCLUDED    MAIN_SIDES  Not Applicable   \n",
       "2      82246 2023-03-03   LUNCH   MEDALLIONS          MAIN              MR   \n",
       "3      82246 2023-03-03   LUNCH   MEDALLIONS          MAIN               M   \n",
       "4      82246 2023-03-03   LUNCH       RIBEYE          MAIN               M   \n",
       "..       ...        ...     ...          ...           ...             ...   \n",
       "95     99297 2023-03-03  DINNER  GREEN BEANS    EXTRA_SIDE  Not Applicable   \n",
       "96     99297 2023-03-03  DINNER     BROCCOLI    EXTRA_SIDE  Not Applicable   \n",
       "97     99297 2023-03-03  DINNER      SPINACH    EXTRA_SIDE  Not Applicable   \n",
       "98     99297 2023-03-03  DINNER  ONION RINGS    EXTRA_SIDE  Not Applicable   \n",
       "99     99297 2023-03-03  DINNER        CHIPS    MAIN_SIDES  Not Applicable   \n",
       "\n",
       "             SAUCE  MENU_PRICE DAY_OF_WEEK DAY_TYPE  QUANTITY  \n",
       "0         INCLUDED        98.0      Friday  WEEKDAY         1  \n",
       "1   Not Applicable         0.0      Friday  WEEKDAY         1  \n",
       "2            NON_P        32.0      Friday  WEEKDAY         2  \n",
       "3            NON_P        32.0      Friday  WEEKDAY         2  \n",
       "4        BEARNAISE        47.0      Friday  WEEKDAY         2  \n",
       "..             ...         ...         ...      ...       ...  \n",
       "95  Not Applicable         6.0      Friday  WEEKDAY         1  \n",
       "96  Not Applicable         7.0      Friday  WEEKDAY         1  \n",
       "97  Not Applicable         6.0      Friday  WEEKDAY         1  \n",
       "98  Not Applicable         7.0      Friday  WEEKDAY         1  \n",
       "99  Not Applicable         0.0      Friday  WEEKDAY         2  \n",
       "\n",
       "[100 rows x 11 columns]"
      ]
     },
     "execution_count": 27,
     "metadata": {},
     "output_type": "execute_result"
    }
   ],
   "source": [
    "explo_dataset_saved.head(100)"
   ]
  },
  {
   "cell_type": "code",
   "execution_count": 28,
   "id": "a5825f85",
   "metadata": {},
   "outputs": [],
   "source": [
    "dataset['DATE'] = pd.to_datetime(dataset['DATE'])"
   ]
  },
  {
   "cell_type": "markdown",
   "id": "f3594877",
   "metadata": {},
   "source": [
    "### Splting of dataset into Mains and Others, so we try to have a better result on forecasting Mains with less noisy. "
   ]
  },
  {
   "cell_type": "code",
   "execution_count": 29,
   "id": "696a145f",
   "metadata": {},
   "outputs": [
    {
     "name": "stdout",
     "output_type": "stream",
     "text": [
      "(935, 11)\n"
     ]
    },
    {
     "data": {
      "text/html": [
       "<div>\n",
       "<style scoped>\n",
       "    .dataframe tbody tr th:only-of-type {\n",
       "        vertical-align: middle;\n",
       "    }\n",
       "\n",
       "    .dataframe tbody tr th {\n",
       "        vertical-align: top;\n",
       "    }\n",
       "\n",
       "    .dataframe thead th {\n",
       "        text-align: right;\n",
       "    }\n",
       "</style>\n",
       "<table border=\"1\" class=\"dataframe\">\n",
       "  <thead>\n",
       "    <tr style=\"text-align: right;\">\n",
       "      <th></th>\n",
       "      <th>ORDER_ID</th>\n",
       "      <th>DATE</th>\n",
       "      <th>TIME</th>\n",
       "      <th>MENU_ITEM</th>\n",
       "      <th>MENU_CATEGORY</th>\n",
       "      <th>TEMP</th>\n",
       "      <th>SAUCE</th>\n",
       "      <th>MENU_PRICE</th>\n",
       "      <th>DAY_OF_WEEK</th>\n",
       "      <th>DAY_TYPE</th>\n",
       "      <th>QUANTITY</th>\n",
       "    </tr>\n",
       "  </thead>\n",
       "  <tbody>\n",
       "    <tr>\n",
       "      <th>0</th>\n",
       "      <td>81243</td>\n",
       "      <td>2023-03-03</td>\n",
       "      <td>LUNCH</td>\n",
       "      <td>PORTERHOUSE</td>\n",
       "      <td>MAIN</td>\n",
       "      <td>M</td>\n",
       "      <td>INCLUDED</td>\n",
       "      <td>98.0</td>\n",
       "      <td>Friday</td>\n",
       "      <td>WEEKDAY</td>\n",
       "      <td>1</td>\n",
       "    </tr>\n",
       "    <tr>\n",
       "      <th>2</th>\n",
       "      <td>82246</td>\n",
       "      <td>2023-03-03</td>\n",
       "      <td>LUNCH</td>\n",
       "      <td>MEDALLIONS</td>\n",
       "      <td>MAIN</td>\n",
       "      <td>MR</td>\n",
       "      <td>NON_P</td>\n",
       "      <td>32.0</td>\n",
       "      <td>Friday</td>\n",
       "      <td>WEEKDAY</td>\n",
       "      <td>2</td>\n",
       "    </tr>\n",
       "    <tr>\n",
       "      <th>3</th>\n",
       "      <td>82246</td>\n",
       "      <td>2023-03-03</td>\n",
       "      <td>LUNCH</td>\n",
       "      <td>MEDALLIONS</td>\n",
       "      <td>MAIN</td>\n",
       "      <td>M</td>\n",
       "      <td>NON_P</td>\n",
       "      <td>32.0</td>\n",
       "      <td>Friday</td>\n",
       "      <td>WEEKDAY</td>\n",
       "      <td>2</td>\n",
       "    </tr>\n",
       "    <tr>\n",
       "      <th>4</th>\n",
       "      <td>82246</td>\n",
       "      <td>2023-03-03</td>\n",
       "      <td>LUNCH</td>\n",
       "      <td>RIBEYE</td>\n",
       "      <td>MAIN</td>\n",
       "      <td>M</td>\n",
       "      <td>BEARNAISE</td>\n",
       "      <td>47.0</td>\n",
       "      <td>Friday</td>\n",
       "      <td>WEEKDAY</td>\n",
       "      <td>2</td>\n",
       "    </tr>\n",
       "    <tr>\n",
       "      <th>5</th>\n",
       "      <td>82246</td>\n",
       "      <td>2023-03-03</td>\n",
       "      <td>LUNCH</td>\n",
       "      <td>RIBEYE</td>\n",
       "      <td>MAIN</td>\n",
       "      <td>M</td>\n",
       "      <td>PEPPER</td>\n",
       "      <td>47.0</td>\n",
       "      <td>Friday</td>\n",
       "      <td>WEEKDAY</td>\n",
       "      <td>2</td>\n",
       "    </tr>\n",
       "  </tbody>\n",
       "</table>\n",
       "</div>"
      ],
      "text/plain": [
       "   ORDER_ID       DATE   TIME    MENU_ITEM MENU_CATEGORY TEMP      SAUCE  \\\n",
       "0     81243 2023-03-03  LUNCH  PORTERHOUSE          MAIN    M   INCLUDED   \n",
       "2     82246 2023-03-03  LUNCH   MEDALLIONS          MAIN   MR      NON_P   \n",
       "3     82246 2023-03-03  LUNCH   MEDALLIONS          MAIN    M      NON_P   \n",
       "4     82246 2023-03-03  LUNCH       RIBEYE          MAIN    M  BEARNAISE   \n",
       "5     82246 2023-03-03  LUNCH       RIBEYE          MAIN    M     PEPPER   \n",
       "\n",
       "   MENU_PRICE DAY_OF_WEEK DAY_TYPE  QUANTITY  \n",
       "0        98.0      Friday  WEEKDAY         1  \n",
       "2        32.0      Friday  WEEKDAY         2  \n",
       "3        32.0      Friday  WEEKDAY         2  \n",
       "4        47.0      Friday  WEEKDAY         2  \n",
       "5        47.0      Friday  WEEKDAY         2  "
      ]
     },
     "execution_count": 29,
     "metadata": {},
     "output_type": "execute_result"
    }
   ],
   "source": [
    "# Dividing data based on MAINS\n",
    "main = dataset[dataset['MENU_CATEGORY']=='MAIN']\n",
    "print(main.shape)\n",
    "main.head()"
   ]
  },
  {
   "cell_type": "code",
   "execution_count": 30,
   "id": "9ca39b13",
   "metadata": {},
   "outputs": [],
   "source": [
    "#others = dataset[dataset['MENU_CATEGORY'].isin(['MAIN_SIDES', 'EXTRA_SIDES', 'STARTERS'])]\n",
    "#print(others.shape)\n",
    "#others.head()"
   ]
  },
  {
   "cell_type": "code",
   "execution_count": 31,
   "id": "bacfff26",
   "metadata": {},
   "outputs": [
    {
     "data": {
      "text/plain": [
       "<AxesSubplot:>"
      ]
     },
     "execution_count": 31,
     "metadata": {},
     "output_type": "execute_result"
    },
    {
     "data": {
      "image/png": "[encoded data removed]",
      "text/plain": [
       "<Figure size 360x216 with 2 Axes>"
      ]
     },
     "metadata": {
      "needs_background": "light"
     },
     "output_type": "display_data"
    }
   ],
   "source": [
    "plt.figure(figsize=(5,3))\n",
    "sns.heatmap(dataset.corr(),annot=True, cmap=\"Greens\")"
   ]
  },
  {
   "cell_type": "code",
   "execution_count": 32,
   "id": "b6df46c5",
   "metadata": {},
   "outputs": [
    {
     "data": {
      "image/png": "[encoded data removed]",
      "text/plain": [
       "<Figure size 864x432 with 1 Axes>"
      ]
     },
     "metadata": {
      "needs_background": "light"
     },
     "output_type": "display_data"
    }
   ],
   "source": [
    "main_counts = main['MENU_ITEM'].value_counts()\n",
    "\n",
    "# create a bar chart using the counts data\n",
    "fig, ax = plt.subplots(figsize=(12,6))\n",
    "ax.bar(main_counts.index, main_counts.values)\n",
    "\n",
    "# set the title and labels for the chart\n",
    "ax.set_title('Distribution of the Week')\n",
    "ax.set_xlabel('Mains')\n",
    "ax.set_ylabel('Count')\n",
    "\n",
    "# rotate the x-axis labels for better visibility\n",
    "plt.xticks(rotation=90)\n",
    "\n",
    "# display the chart\n",
    "plt.show()"
   ]
  },
  {
   "cell_type": "code",
   "execution_count": 33,
   "id": "85914feb",
   "metadata": {},
   "outputs": [],
   "source": [
    "#main.drop(['DATE','DAY_TYPE'], axis=1, inplace=True)"
   ]
  },
  {
   "cell_type": "code",
   "execution_count": 34,
   "id": "62dd8b57",
   "metadata": {},
   "outputs": [],
   "source": [
    "main.drop('ORDER_ID', axis=1, inplace=True)"
   ]
  },
  {
   "cell_type": "code",
   "execution_count": 35,
   "id": "9db03efe",
   "metadata": {},
   "outputs": [
    {
     "data": {
      "text/html": [
       "<div>\n",
       "<style scoped>\n",
       "    .dataframe tbody tr th:only-of-type {\n",
       "        vertical-align: middle;\n",
       "    }\n",
       "\n",
       "    .dataframe tbody tr th {\n",
       "        vertical-align: top;\n",
       "    }\n",
       "\n",
       "    .dataframe thead th {\n",
       "        text-align: right;\n",
       "    }\n",
       "</style>\n",
       "<table border=\"1\" class=\"dataframe\">\n",
       "  <thead>\n",
       "    <tr style=\"text-align: right;\">\n",
       "      <th></th>\n",
       "      <th>DATE</th>\n",
       "      <th>TIME</th>\n",
       "      <th>MENU_ITEM</th>\n",
       "      <th>MENU_CATEGORY</th>\n",
       "      <th>TEMP</th>\n",
       "      <th>SAUCE</th>\n",
       "      <th>MENU_PRICE</th>\n",
       "      <th>DAY_OF_WEEK</th>\n",
       "      <th>DAY_TYPE</th>\n",
       "      <th>QUANTITY</th>\n",
       "    </tr>\n",
       "  </thead>\n",
       "  <tbody>\n",
       "    <tr>\n",
       "      <th>0</th>\n",
       "      <td>2023-03-03</td>\n",
       "      <td>LUNCH</td>\n",
       "      <td>PORTERHOUSE</td>\n",
       "      <td>MAIN</td>\n",
       "      <td>M</td>\n",
       "      <td>INCLUDED</td>\n",
       "      <td>98.0</td>\n",
       "      <td>Friday</td>\n",
       "      <td>WEEKDAY</td>\n",
       "      <td>1</td>\n",
       "    </tr>\n",
       "    <tr>\n",
       "      <th>2</th>\n",
       "      <td>2023-03-03</td>\n",
       "      <td>LUNCH</td>\n",
       "      <td>MEDALLIONS</td>\n",
       "      <td>MAIN</td>\n",
       "      <td>MR</td>\n",
       "      <td>NON_P</td>\n",
       "      <td>32.0</td>\n",
       "      <td>Friday</td>\n",
       "      <td>WEEKDAY</td>\n",
       "      <td>2</td>\n",
       "    </tr>\n",
       "    <tr>\n",
       "      <th>3</th>\n",
       "      <td>2023-03-03</td>\n",
       "      <td>LUNCH</td>\n",
       "      <td>MEDALLIONS</td>\n",
       "      <td>MAIN</td>\n",
       "      <td>M</td>\n",
       "      <td>NON_P</td>\n",
       "      <td>32.0</td>\n",
       "      <td>Friday</td>\n",
       "      <td>WEEKDAY</td>\n",
       "      <td>2</td>\n",
       "    </tr>\n",
       "    <tr>\n",
       "      <th>4</th>\n",
       "      <td>2023-03-03</td>\n",
       "      <td>LUNCH</td>\n",
       "      <td>RIBEYE</td>\n",
       "      <td>MAIN</td>\n",
       "      <td>M</td>\n",
       "      <td>BEARNAISE</td>\n",
       "      <td>47.0</td>\n",
       "      <td>Friday</td>\n",
       "      <td>WEEKDAY</td>\n",
       "      <td>2</td>\n",
       "    </tr>\n",
       "    <tr>\n",
       "      <th>5</th>\n",
       "      <td>2023-03-03</td>\n",
       "      <td>LUNCH</td>\n",
       "      <td>RIBEYE</td>\n",
       "      <td>MAIN</td>\n",
       "      <td>M</td>\n",
       "      <td>PEPPER</td>\n",
       "      <td>47.0</td>\n",
       "      <td>Friday</td>\n",
       "      <td>WEEKDAY</td>\n",
       "      <td>2</td>\n",
       "    </tr>\n",
       "  </tbody>\n",
       "</table>\n",
       "</div>"
      ],
      "text/plain": [
       "        DATE   TIME    MENU_ITEM MENU_CATEGORY TEMP      SAUCE  MENU_PRICE  \\\n",
       "0 2023-03-03  LUNCH  PORTERHOUSE          MAIN    M   INCLUDED        98.0   \n",
       "2 2023-03-03  LUNCH   MEDALLIONS          MAIN   MR      NON_P        32.0   \n",
       "3 2023-03-03  LUNCH   MEDALLIONS          MAIN    M      NON_P        32.0   \n",
       "4 2023-03-03  LUNCH       RIBEYE          MAIN    M  BEARNAISE        47.0   \n",
       "5 2023-03-03  LUNCH       RIBEYE          MAIN    M     PEPPER        47.0   \n",
       "\n",
       "  DAY_OF_WEEK DAY_TYPE  QUANTITY  \n",
       "0      Friday  WEEKDAY         1  \n",
       "2      Friday  WEEKDAY         2  \n",
       "3      Friday  WEEKDAY         2  \n",
       "4      Friday  WEEKDAY         2  \n",
       "5      Friday  WEEKDAY         2  "
      ]
     },
     "execution_count": 35,
     "metadata": {},
     "output_type": "execute_result"
    }
   ],
   "source": [
    "main.head()"
   ]
  },
  {
   "cell_type": "code",
   "execution_count": 36,
   "id": "434d80c8",
   "metadata": {},
   "outputs": [],
   "source": [
    "#others.drop(['TEMP','DAY_TYPE'], axis=1, inplace=True)"
   ]
  },
  {
   "cell_type": "code",
   "execution_count": 37,
   "id": "b1b8d5c0",
   "metadata": {},
   "outputs": [],
   "source": [
    "#others.drop('SAUCE', axis=1, inplace=True)"
   ]
  },
  {
   "cell_type": "code",
   "execution_count": 38,
   "id": "df2725f0",
   "metadata": {},
   "outputs": [],
   "source": [
    "#others.drop('ORDER_ID', axis=1, inplace=True)"
   ]
  },
  {
   "cell_type": "code",
   "execution_count": 39,
   "id": "4d5db1b3",
   "metadata": {},
   "outputs": [],
   "source": [
    "#others.head()"
   ]
  },
  {
   "cell_type": "code",
   "execution_count": 40,
   "id": "dc0d8e8d",
   "metadata": {},
   "outputs": [],
   "source": [
    "#main['MENU_ITEM'] = pd.Categorical(main['MENU_ITEM'])"
   ]
  },
  {
   "cell_type": "code",
   "execution_count": 41,
   "id": "fa6b7b0d",
   "metadata": {},
   "outputs": [],
   "source": [
    "main['DATE'] = main['DATE'].values.astype(float)"
   ]
  },
  {
   "cell_type": "code",
   "execution_count": 42,
   "id": "5dcb7b54",
   "metadata": {},
   "outputs": [],
   "source": [
    "main.drop('DAY_TYPE', axis=1, inplace=True)"
   ]
  },
  {
   "cell_type": "code",
   "execution_count": 43,
   "id": "fbd080c9",
   "metadata": {},
   "outputs": [
    {
     "data": {
      "text/html": [
       "<div>\n",
       "<style scoped>\n",
       "    .dataframe tbody tr th:only-of-type {\n",
       "        vertical-align: middle;\n",
       "    }\n",
       "\n",
       "    .dataframe tbody tr th {\n",
       "        vertical-align: top;\n",
       "    }\n",
       "\n",
       "    .dataframe thead th {\n",
       "        text-align: right;\n",
       "    }\n",
       "</style>\n",
       "<table border=\"1\" class=\"dataframe\">\n",
       "  <thead>\n",
       "    <tr style=\"text-align: right;\">\n",
       "      <th></th>\n",
       "      <th>DATE</th>\n",
       "      <th>TIME</th>\n",
       "      <th>MENU_ITEM</th>\n",
       "      <th>MENU_CATEGORY</th>\n",
       "      <th>TEMP</th>\n",
       "      <th>SAUCE</th>\n",
       "      <th>MENU_PRICE</th>\n",
       "      <th>DAY_OF_WEEK</th>\n",
       "      <th>QUANTITY</th>\n",
       "    </tr>\n",
       "  </thead>\n",
       "  <tbody>\n",
       "    <tr>\n",
       "      <th>0</th>\n",
       "      <td>1.677802e+18</td>\n",
       "      <td>LUNCH</td>\n",
       "      <td>PORTERHOUSE</td>\n",
       "      <td>MAIN</td>\n",
       "      <td>M</td>\n",
       "      <td>INCLUDED</td>\n",
       "      <td>98.0</td>\n",
       "      <td>Friday</td>\n",
       "      <td>1</td>\n",
       "    </tr>\n",
       "    <tr>\n",
       "      <th>2</th>\n",
       "      <td>1.677802e+18</td>\n",
       "      <td>LUNCH</td>\n",
       "      <td>MEDALLIONS</td>\n",
       "      <td>MAIN</td>\n",
       "      <td>MR</td>\n",
       "      <td>NON_P</td>\n",
       "      <td>32.0</td>\n",
       "      <td>Friday</td>\n",
       "      <td>2</td>\n",
       "    </tr>\n",
       "    <tr>\n",
       "      <th>3</th>\n",
       "      <td>1.677802e+18</td>\n",
       "      <td>LUNCH</td>\n",
       "      <td>MEDALLIONS</td>\n",
       "      <td>MAIN</td>\n",
       "      <td>M</td>\n",
       "      <td>NON_P</td>\n",
       "      <td>32.0</td>\n",
       "      <td>Friday</td>\n",
       "      <td>2</td>\n",
       "    </tr>\n",
       "    <tr>\n",
       "      <th>4</th>\n",
       "      <td>1.677802e+18</td>\n",
       "      <td>LUNCH</td>\n",
       "      <td>RIBEYE</td>\n",
       "      <td>MAIN</td>\n",
       "      <td>M</td>\n",
       "      <td>BEARNAISE</td>\n",
       "      <td>47.0</td>\n",
       "      <td>Friday</td>\n",
       "      <td>2</td>\n",
       "    </tr>\n",
       "    <tr>\n",
       "      <th>5</th>\n",
       "      <td>1.677802e+18</td>\n",
       "      <td>LUNCH</td>\n",
       "      <td>RIBEYE</td>\n",
       "      <td>MAIN</td>\n",
       "      <td>M</td>\n",
       "      <td>PEPPER</td>\n",
       "      <td>47.0</td>\n",
       "      <td>Friday</td>\n",
       "      <td>2</td>\n",
       "    </tr>\n",
       "  </tbody>\n",
       "</table>\n",
       "</div>"
      ],
      "text/plain": [
       "           DATE   TIME    MENU_ITEM MENU_CATEGORY TEMP      SAUCE  MENU_PRICE  \\\n",
       "0  1.677802e+18  LUNCH  PORTERHOUSE          MAIN    M   INCLUDED        98.0   \n",
       "2  1.677802e+18  LUNCH   MEDALLIONS          MAIN   MR      NON_P        32.0   \n",
       "3  1.677802e+18  LUNCH   MEDALLIONS          MAIN    M      NON_P        32.0   \n",
       "4  1.677802e+18  LUNCH       RIBEYE          MAIN    M  BEARNAISE        47.0   \n",
       "5  1.677802e+18  LUNCH       RIBEYE          MAIN    M     PEPPER        47.0   \n",
       "\n",
       "  DAY_OF_WEEK  QUANTITY  \n",
       "0      Friday         1  \n",
       "2      Friday         2  \n",
       "3      Friday         2  \n",
       "4      Friday         2  \n",
       "5      Friday         2  "
      ]
     },
     "execution_count": 43,
     "metadata": {},
     "output_type": "execute_result"
    }
   ],
   "source": [
    "main.head()"
   ]
  },
  {
   "cell_type": "markdown",
   "id": "d741360c",
   "metadata": {},
   "source": [
    "### Applying label encoding to variables used to do the prediction "
   ]
  },
  {
   "cell_type": "code",
   "execution_count": 44,
   "id": "a02f33a1",
   "metadata": {},
   "outputs": [
    {
     "data": {
      "text/plain": [
       "DATE             float64\n",
       "TIME              object\n",
       "MENU_ITEM         object\n",
       "MENU_CATEGORY     object\n",
       "TEMP              object\n",
       "SAUCE             object\n",
       "MENU_PRICE       float64\n",
       "DAY_OF_WEEK       object\n",
       "QUANTITY           int64\n",
       "dtype: object"
      ]
     },
     "execution_count": 44,
     "metadata": {},
     "output_type": "execute_result"
    }
   ],
   "source": [
    "main.dtypes"
   ]
  },
  {
   "cell_type": "code",
   "execution_count": 45,
   "id": "19f68b52",
   "metadata": {},
   "outputs": [],
   "source": [
    "\n",
    "\n",
    "le = LabelEncoder()\n",
    "main['MENU_CATEGORY'] = le.fit_transform(main['MENU_CATEGORY'])\n",
    "main['DAY_OF_WEEK'] = le.fit_transform(main['DAY_OF_WEEK'])\n",
    "main['TIME'] = le.fit_transform(main['TIME'])\n",
    "main['SAUCE'] = le.fit_transform(main['SAUCE'])\n",
    "main['TEMP'] = le.fit_transform(main['TEMP'])\n",
    "main['MENU_ITEM'] = le.fit_transform(main['MENU_ITEM'])"
   ]
  },
  {
   "cell_type": "code",
   "execution_count": 46,
   "id": "112d1028",
   "metadata": {},
   "outputs": [
    {
     "data": {
      "text/html": [
       "<div>\n",
       "<style scoped>\n",
       "    .dataframe tbody tr th:only-of-type {\n",
       "        vertical-align: middle;\n",
       "    }\n",
       "\n",
       "    .dataframe tbody tr th {\n",
       "        vertical-align: top;\n",
       "    }\n",
       "\n",
       "    .dataframe thead th {\n",
       "        text-align: right;\n",
       "    }\n",
       "</style>\n",
       "<table border=\"1\" class=\"dataframe\">\n",
       "  <thead>\n",
       "    <tr style=\"text-align: right;\">\n",
       "      <th></th>\n",
       "      <th>DATE</th>\n",
       "      <th>TIME</th>\n",
       "      <th>MENU_ITEM</th>\n",
       "      <th>MENU_CATEGORY</th>\n",
       "      <th>TEMP</th>\n",
       "      <th>SAUCE</th>\n",
       "      <th>MENU_PRICE</th>\n",
       "      <th>DAY_OF_WEEK</th>\n",
       "      <th>QUANTITY</th>\n",
       "    </tr>\n",
       "  </thead>\n",
       "  <tbody>\n",
       "    <tr>\n",
       "      <th>0</th>\n",
       "      <td>1.677802e+18</td>\n",
       "      <td>1</td>\n",
       "      <td>9</td>\n",
       "      <td>0</td>\n",
       "      <td>1</td>\n",
       "      <td>2</td>\n",
       "      <td>98.0</td>\n",
       "      <td>0</td>\n",
       "      <td>1</td>\n",
       "    </tr>\n",
       "    <tr>\n",
       "      <th>2</th>\n",
       "      <td>1.677802e+18</td>\n",
       "      <td>1</td>\n",
       "      <td>8</td>\n",
       "      <td>0</td>\n",
       "      <td>2</td>\n",
       "      <td>4</td>\n",
       "      <td>32.0</td>\n",
       "      <td>0</td>\n",
       "      <td>2</td>\n",
       "    </tr>\n",
       "    <tr>\n",
       "      <th>3</th>\n",
       "      <td>1.677802e+18</td>\n",
       "      <td>1</td>\n",
       "      <td>8</td>\n",
       "      <td>0</td>\n",
       "      <td>1</td>\n",
       "      <td>4</td>\n",
       "      <td>32.0</td>\n",
       "      <td>0</td>\n",
       "      <td>2</td>\n",
       "    </tr>\n",
       "    <tr>\n",
       "      <th>4</th>\n",
       "      <td>1.677802e+18</td>\n",
       "      <td>1</td>\n",
       "      <td>10</td>\n",
       "      <td>0</td>\n",
       "      <td>1</td>\n",
       "      <td>0</td>\n",
       "      <td>47.0</td>\n",
       "      <td>0</td>\n",
       "      <td>2</td>\n",
       "    </tr>\n",
       "    <tr>\n",
       "      <th>5</th>\n",
       "      <td>1.677802e+18</td>\n",
       "      <td>1</td>\n",
       "      <td>10</td>\n",
       "      <td>0</td>\n",
       "      <td>1</td>\n",
       "      <td>6</td>\n",
       "      <td>47.0</td>\n",
       "      <td>0</td>\n",
       "      <td>2</td>\n",
       "    </tr>\n",
       "  </tbody>\n",
       "</table>\n",
       "</div>"
      ],
      "text/plain": [
       "           DATE  TIME  MENU_ITEM  MENU_CATEGORY  TEMP  SAUCE  MENU_PRICE  \\\n",
       "0  1.677802e+18     1          9              0     1      2        98.0   \n",
       "2  1.677802e+18     1          8              0     2      4        32.0   \n",
       "3  1.677802e+18     1          8              0     1      4        32.0   \n",
       "4  1.677802e+18     1         10              0     1      0        47.0   \n",
       "5  1.677802e+18     1         10              0     1      6        47.0   \n",
       "\n",
       "   DAY_OF_WEEK  QUANTITY  \n",
       "0            0         1  \n",
       "2            0         2  \n",
       "3            0         2  \n",
       "4            0         2  \n",
       "5            0         2  "
      ]
     },
     "execution_count": 46,
     "metadata": {},
     "output_type": "execute_result"
    }
   ],
   "source": [
    "main.head()"
   ]
  },
  {
   "cell_type": "markdown",
   "id": "301bcabc",
   "metadata": {},
   "source": [
    "# knn on main splits"
   ]
  },
  {
   "cell_type": "markdown",
   "id": "e511d43c",
   "metadata": {},
   "source": [
    "Finding the best numeber for n_neighbors: "
   ]
  },
  {
   "cell_type": "code",
   "execution_count": 102,
   "id": "d776475d",
   "metadata": {},
   "outputs": [
    {
     "data": {
      "image/png": "[encoded data removed]",
      "text/plain": [
       "<Figure size 432x288 with 1 Axes>"
      ]
     },
     "metadata": {
      "needs_background": "light"
     },
     "output_type": "display_data"
    }
   ],
   "source": [
    "\n",
    "\n",
    "# Separate the independent and dependent variables\n",
    "X = main.drop(['QUANTITY'], axis=1)\n",
    "y = main['QUANTITY']\n",
    "# Split the dataset into training and testing sets\n",
    "X_train, X_test, y_train, y_test = train_test_split(X, y, test_size=0.2, random_state=42)\n",
    "k_values = range(1, 60)\n",
    "train_scores = []\n",
    "test_scores = []\n",
    "\n",
    "for k in k_values:\n",
    "    knn = KNeighborsClassifier(n_neighbors=k)\n",
    "    knn.fit(X_train, y_train)\n",
    "    train_scores.append(knn.score(X_train, y_train))\n",
    "    test_scores.append(knn.score(X_test, y_test))\n",
    "\n",
    "\n",
    "plt.plot(k_values, train_scores, label='Train score')\n",
    "plt.plot(k_values, test_scores, label='Test score')\n",
    "plt.xlabel('Number of neighbors (k)')\n",
    "plt.ylabel('Accuracy score')\n",
    "plt.legend()\n",
    "plt.show()"
   ]
  },
  {
   "cell_type": "markdown",
   "id": "e18936e4",
   "metadata": {},
   "source": [
    "Here we can observe that a number Between 50 and 60 is the best match for the model "
   ]
  },
  {
   "cell_type": "code",
   "execution_count": 48,
   "id": "7eaf7181",
   "metadata": {},
   "outputs": [
    {
     "name": "stdout",
     "output_type": "stream",
     "text": [
      "Accuracy: 0.6898395721925134\n",
      "              precision    recall  f1-score   support\n",
      "\n",
      "           1       0.70      0.97      0.81       128\n",
      "           2       0.50      0.14      0.21        37\n",
      "           3       0.00      0.00      0.00        12\n",
      "           4       0.00      0.00      0.00        10\n",
      "\n",
      "    accuracy                           0.69       187\n",
      "   macro avg       0.30      0.28      0.26       187\n",
      "weighted avg       0.58      0.69      0.60       187\n",
      "\n"
     ]
    }
   ],
   "source": [
    "# Separate the independent and dependent variables\n",
    "X = main.drop(['QUANTITY'], axis=1)\n",
    "y = main['QUANTITY']\n",
    "\n",
    "# Split the dataset into training and testing sets\n",
    "X_train, X_test, y_train, y_test = train_test_split(X, y, test_size=0.2, random_state=42)\n",
    "\n",
    "# Train the kNN model with the training set\n",
    "k = 55  # choose the number of neighbors to consider\n",
    "knn = KNeighborsClassifier(n_neighbors=k)\n",
    "knn.fit(X_train, y_train)\n",
    "\n",
    "# Evaluate the performance on the testing set\n",
    "y_pred = knn.predict(X_test)\n",
    "accuracy = accuracy_score(y_test, y_pred)\n",
    "print(f'Accuracy: {accuracy}')\n",
    "print(classification_report(y_test, y_pred))"
   ]
  },
  {
   "cell_type": "markdown",
   "id": "fe9b261b",
   "metadata": {},
   "source": [
    "### Applying Knn with StandardScaler"
   ]
  },
  {
   "cell_type": "code",
   "execution_count": 96,
   "id": "a424c7c5",
   "metadata": {},
   "outputs": [
    {
     "name": "stdout",
     "output_type": "stream",
     "text": [
      "Accuracy: 0.6737967914438503\n",
      "              precision    recall  f1-score   support\n",
      "\n",
      "           1       0.67      1.00      0.80       124\n",
      "           2       1.00      0.04      0.09        45\n",
      "           3       0.00      0.00      0.00         9\n",
      "           4       0.00      0.00      0.00         9\n",
      "\n",
      "    accuracy                           0.67       187\n",
      "   macro avg       0.42      0.26      0.22       187\n",
      "weighted avg       0.69      0.67      0.55       187\n",
      "\n"
     ]
    }
   ],
   "source": [
    "\n",
    "\n",
    "\n",
    "# Separate the independent and dependent variables\n",
    "X = main.drop(['QUANTITY'], axis=1)\n",
    "y = main['QUANTITY']\n",
    "# Split the dataset into training and testing sets\n",
    "X_train, X_test, y_train, y_test = train_test_split(X, y, test_size=0.2, random_state=70)\n",
    "\n",
    "# Scale the data\n",
    "scaler = StandardScaler()\n",
    "X_train_scaled = scaler.fit_transform(X_train)\n",
    "X_test_scaled = scaler.transform(X_test)\n",
    "\n",
    "# Train the kNN model with the training set\n",
    "k =55  # choose the number of neighbors to consider\n",
    "knn = KNeighborsClassifier(n_neighbors=k)\n",
    "knn.fit(X_train_scaled, y_train)\n",
    "\n",
    "# Evaluating the performance \n",
    "y_pred = knn.predict(X_test_scaled)\n",
    "accuracy = accuracy_score(y_test, y_pred)\n",
    "print(f'Accuracy: {accuracy}')\n",
    "print(classification_report(y_test, y_pred))\n",
    "\n"
   ]
  },
  {
   "cell_type": "markdown",
   "id": "dd022846",
   "metadata": {},
   "source": [
    "The KNN model appears to perform rather well for a few categories (Recall, and F1-scores)\n",
    "Low accuracy on recall, and F1-scores suggest that the model performs poorly or is unable to correctly predict outcomes for additional classes, such as Chicken Salad, Coconut Dal, Cod.\n",
    "\n",
    "KNN is not an appropriate algorithm for such an approach since it is a lazy learning algorithm that saves all of the training data and makes predictions based on the similarity of the new data point to the training data. The model may struggle to handle the high-dimensional and limited data contained in restaurant menus in this situation. Furthermore, KNN is susceptible to outliers and noisy data, which might affect the model's prediction accuracy.\n"
   ]
  },
  {
   "cell_type": "markdown",
   "id": "abd1a885",
   "metadata": {},
   "source": [
    "# Random Forest classifier on Mains Splits "
   ]
  },
  {
   "cell_type": "code",
   "execution_count": 97,
   "id": "7198de9e",
   "metadata": {},
   "outputs": [
    {
     "data": {
      "text/html": [
       "<div>\n",
       "<style scoped>\n",
       "    .dataframe tbody tr th:only-of-type {\n",
       "        vertical-align: middle;\n",
       "    }\n",
       "\n",
       "    .dataframe tbody tr th {\n",
       "        vertical-align: top;\n",
       "    }\n",
       "\n",
       "    .dataframe thead th {\n",
       "        text-align: right;\n",
       "    }\n",
       "</style>\n",
       "<table border=\"1\" class=\"dataframe\">\n",
       "  <thead>\n",
       "    <tr style=\"text-align: right;\">\n",
       "      <th></th>\n",
       "      <th>DATE</th>\n",
       "      <th>TIME</th>\n",
       "      <th>MENU_ITEM</th>\n",
       "      <th>MENU_CATEGORY</th>\n",
       "      <th>TEMP</th>\n",
       "      <th>SAUCE</th>\n",
       "      <th>MENU_PRICE</th>\n",
       "      <th>DAY_OF_WEEK</th>\n",
       "      <th>QUANTITY</th>\n",
       "    </tr>\n",
       "  </thead>\n",
       "  <tbody>\n",
       "    <tr>\n",
       "      <th>0</th>\n",
       "      <td>1.677802e+18</td>\n",
       "      <td>1</td>\n",
       "      <td>9</td>\n",
       "      <td>0</td>\n",
       "      <td>1</td>\n",
       "      <td>2</td>\n",
       "      <td>98.0</td>\n",
       "      <td>0</td>\n",
       "      <td>1</td>\n",
       "    </tr>\n",
       "    <tr>\n",
       "      <th>2</th>\n",
       "      <td>1.677802e+18</td>\n",
       "      <td>1</td>\n",
       "      <td>8</td>\n",
       "      <td>0</td>\n",
       "      <td>2</td>\n",
       "      <td>4</td>\n",
       "      <td>32.0</td>\n",
       "      <td>0</td>\n",
       "      <td>2</td>\n",
       "    </tr>\n",
       "    <tr>\n",
       "      <th>3</th>\n",
       "      <td>1.677802e+18</td>\n",
       "      <td>1</td>\n",
       "      <td>8</td>\n",
       "      <td>0</td>\n",
       "      <td>1</td>\n",
       "      <td>4</td>\n",
       "      <td>32.0</td>\n",
       "      <td>0</td>\n",
       "      <td>2</td>\n",
       "    </tr>\n",
       "    <tr>\n",
       "      <th>4</th>\n",
       "      <td>1.677802e+18</td>\n",
       "      <td>1</td>\n",
       "      <td>10</td>\n",
       "      <td>0</td>\n",
       "      <td>1</td>\n",
       "      <td>0</td>\n",
       "      <td>47.0</td>\n",
       "      <td>0</td>\n",
       "      <td>2</td>\n",
       "    </tr>\n",
       "    <tr>\n",
       "      <th>5</th>\n",
       "      <td>1.677802e+18</td>\n",
       "      <td>1</td>\n",
       "      <td>10</td>\n",
       "      <td>0</td>\n",
       "      <td>1</td>\n",
       "      <td>6</td>\n",
       "      <td>47.0</td>\n",
       "      <td>0</td>\n",
       "      <td>2</td>\n",
       "    </tr>\n",
       "  </tbody>\n",
       "</table>\n",
       "</div>"
      ],
      "text/plain": [
       "           DATE  TIME  MENU_ITEM  MENU_CATEGORY  TEMP  SAUCE  MENU_PRICE  \\\n",
       "0  1.677802e+18     1          9              0     1      2        98.0   \n",
       "2  1.677802e+18     1          8              0     2      4        32.0   \n",
       "3  1.677802e+18     1          8              0     1      4        32.0   \n",
       "4  1.677802e+18     1         10              0     1      0        47.0   \n",
       "5  1.677802e+18     1         10              0     1      6        47.0   \n",
       "\n",
       "   DAY_OF_WEEK  QUANTITY  \n",
       "0            0         1  \n",
       "2            0         2  \n",
       "3            0         2  \n",
       "4            0         2  \n",
       "5            0         2  "
      ]
     },
     "execution_count": 97,
     "metadata": {},
     "output_type": "execute_result"
    }
   ],
   "source": [
    "main.head()"
   ]
  },
  {
   "cell_type": "code",
   "execution_count": 98,
   "id": "360080f0",
   "metadata": {},
   "outputs": [
    {
     "data": {
      "image/png": "[encoded data removed]",
      "text/plain": [
       "<Figure size 432x288 with 1 Axes>"
      ]
     },
     "metadata": {
      "needs_background": "light"
     },
     "output_type": "display_data"
    }
   ],
   "source": [
    "n_estimators_range = (1, 50)\n",
    "\n",
    "# Initialize empty lists to store the training and testing scores\n",
    "train_scores = []\n",
    "test_scores = []\n",
    "\n",
    "# Train and evaluate the model with different values of n_estimators\n",
    "for n_estimators in n_estimators_range:\n",
    "    rf = RandomForestClassifier(n_estimators=n_estimators, random_state=100)\n",
    "    rf.fit(X_train, y_train)\n",
    "    train_scores.append(accuracy_score(y_train, rf.predict(X_train)))\n",
    "    test_scores.append(accuracy_score(y_test, rf.predict(X_test)))\n",
    "\n",
    "# Plot the training and testing scores against n_estimators\n",
    "plt.plot(n_estimators_range, train_scores, label='Train Score')\n",
    "plt.plot(n_estimators_range, test_scores, label='Test Score')\n",
    "plt.xlabel('n_estimators')\n",
    "plt.ylabel('Accuracy Score')\n",
    "plt.legend()\n",
    "plt.show()\n"
   ]
  },
  {
   "cell_type": "markdown",
   "id": "c0ad032e",
   "metadata": {},
   "source": [
    "## Random Forest + StandardScaler on Mains Splits"
   ]
  },
  {
   "cell_type": "code",
   "execution_count": 52,
   "id": "907fb870",
   "metadata": {},
   "outputs": [
    {
     "name": "stdout",
     "output_type": "stream",
     "text": [
      "Accuracy: 0.6042780748663101\n",
      "              precision    recall  f1-score   support\n",
      "\n",
      "           1       0.73      0.78      0.75       125\n",
      "           2       0.39      0.30      0.34        43\n",
      "           3       0.14      0.22      0.17         9\n",
      "           4       0.00      0.00      0.00         8\n",
      "           5       0.00      0.00      0.00         2\n",
      "\n",
      "    accuracy                           0.60       187\n",
      "   macro avg       0.25      0.26      0.25       187\n",
      "weighted avg       0.58      0.60      0.59       187\n",
      "\n"
     ]
    }
   ],
   "source": [
    "\n",
    "\n",
    "\n",
    "# Split the dataset into training and testing sets\n",
    "X_train, X_test, y_train, y_test = train_test_split(X, y, test_size=0.2)\n",
    "\n",
    "# Scale the dataset using StandardScaler\n",
    "scaler = StandardScaler()\n",
    "X_train_scaled = scaler.fit_transform(X_train)\n",
    "X_test_scaled = scaler.transform(X_test)\n",
    "\n",
    "# Create a Random Forest Classifier\n",
    "rfc = RandomForestClassifier(n_estimators=20, random_state=100)\n",
    "\n",
    "# Train the Random Forest Classifier on the training set\n",
    "rfc.fit(X_train_scaled, y_train)\n",
    "\n",
    "# Make predictions using the Random Forest Classifier\n",
    "y_pred = rfc.predict(X_test_scaled)\n",
    "\n",
    "# Evaluate the performance of the Random Forest Classifier on the testing set\n",
    "accuracy = rfc.score(X_test_scaled, y_test)\n",
    "print(f'Accuracy: {accuracy}')\n",
    "print(classification_report(y_test, y_pred))\n"
   ]
  },
  {
   "cell_type": "code",
   "execution_count": 53,
   "id": "788dff77",
   "metadata": {},
   "outputs": [
    {
     "data": {
      "image/png": "[encoded data removed]",
      "text/plain": [
       "<Figure size 432x288 with 2 Axes>"
      ]
     },
     "metadata": {
      "needs_background": "light"
     },
     "output_type": "display_data"
    }
   ],
   "source": [
    "cm = confusion_matrix(y_test, y_pred)\n",
    "sns.heatmap(cm, annot=True, cmap='Blues', fmt='g')\n",
    "plt.xlabel('Predicted')\n",
    "plt.ylabel('True')\n",
    "plt.show()"
   ]
  },
  {
   "cell_type": "markdown",
   "id": "8bcdb9d8",
   "metadata": {},
   "source": [
    "The actual labels are shown in the rows, while the anticipated labels are represented in the columns. True positives are diagonal elements, while false positives and false negatives are off-diagonal elements."
   ]
  },
  {
   "cell_type": "markdown",
   "id": "12f1d239",
   "metadata": {},
   "source": [
    "# Decision Tree Classifier - whole dataset "
   ]
  },
  {
   "cell_type": "code",
   "execution_count": 99,
   "id": "5506934c",
   "metadata": {},
   "outputs": [
    {
     "name": "stdout",
     "output_type": "stream",
     "text": [
      "Train Accuracy:\n",
      "Number of training samples: 70  |  Training Accuracy: 0.9697\n",
      "Number of training samples: 228  |  Training Accuracy: 0.9260\n",
      "Number of training samples: 387  |  Training Accuracy: 0.8903\n",
      "Number of training samples: 545  |  Training Accuracy: 0.8732\n",
      "Number of training samples: 704  |  Training Accuracy: 0.8739\n",
      "\n",
      "Test Accuracy:\n",
      "Number of training samples: 70  |  Validation Accuracy: 0.5628\n",
      "Number of training samples: 228  |  Validation Accuracy: 0.6404\n",
      "Number of training samples: 387  |  Validation Accuracy: 0.6324\n",
      "Number of training samples: 545  |  Validation Accuracy: 0.6417\n",
      "Number of training samples: 704  |  Validation Accuracy: 0.6671\n"
     ]
    },
    {
     "data": {
      "image/png": "[encoded data removed]",
      "text/plain": [
       "<Figure size 432x288 with 1 Axes>"
      ]
     },
     "metadata": {
      "needs_background": "light"
     },
     "output_type": "display_data"
    }
   ],
   "source": [
    "\n",
    "X = explo_dataset_saved.drop(['QUANTITY'], axis=1)\n",
    "y = explo_dataset_saved['QUANTITY']\n",
    "\n",
    "from sklearn.model_selection import train_test_split, learning_curve\n",
    "# Instantiate a Decision Tree Classifier\n",
    "clf = DecisionTreeClassifier()\n",
    "\n",
    "# Generate learning curve data\n",
    "train_sizes, train_scores, test_scores = learning_curve(\n",
    "    clf, X_train, y_train, cv=17, scoring='accuracy', n_jobs=-1)\n",
    "\n",
    "# Calculate the mean and standard deviation for the training scores and testing scores\n",
    "train_mean = np.mean(train_scores, axis=1)\n",
    "train_std = np.std(train_scores, axis=1)\n",
    "test_mean = np.mean(test_scores, axis=1)\n",
    "test_std = np.std(test_scores, axis=1)\n",
    "\n",
    "# Print the accuracy of train and test\n",
    "print(\"Train Accuracy:\")\n",
    "for size, score in zip(train_sizes, train_mean):\n",
    "    print(f\"Number of training samples: {size}  |  Training Accuracy: {score:.4f}\")\n",
    "\n",
    "print(\"\\nTest Accuracy:\")\n",
    "for size, score in zip(train_sizes, test_mean):\n",
    "    print(f\"Number of training samples: {size}  |  Validation Accuracy: {score:.4f}\")\n",
    "\n",
    "\n",
    "\n",
    "# Plot the learning curve\n",
    "plt.plot(train_sizes, train_mean, color='blue', marker='o', markersize=5, label='Training Accuracy')\n",
    "plt.fill_between(train_sizes, train_mean + train_std, train_mean - train_std, alpha=0.15, color='blue')\n",
    "plt.plot(train_sizes, test_mean, color='green', linestyle='--', marker='s', markersize=5, label='Validation Accuracy')\n",
    "plt.fill_between(train_sizes, test_mean + test_std, test_mean - test_std, alpha=0.15, color='green')\n",
    "plt.xlabel('Number of training samples')\n",
    "plt.ylabel('Accuracy')\n",
    "plt.legend(loc='lower right')\n",
    "plt.show()"
   ]
  },
  {
   "cell_type": "code",
   "execution_count": 100,
   "id": "cef7d4ab",
   "metadata": {},
   "outputs": [
    {
     "name": "stdout",
     "output_type": "stream",
     "text": [
      "Accuracy: 0.6737967914438503\n",
      "[[107  14   3   0   0]\n",
      " [ 27  16   1   0   1]\n",
      " [  6   1   1   1   0]\n",
      " [  3   0   4   2   0]\n",
      " [  0   0   0   0   0]]\n"
     ]
    }
   ],
   "source": [
    "\n",
    "\n",
    "\n",
    "# Scale the dataset using StandardScaler\n",
    "scaler = StandardScaler()\n",
    "X_train_scaled = scaler.fit_transform(X_train)\n",
    "X_test_scaled = scaler.transform(X_test)\n",
    "\n",
    "# Create a Decision Tree Classifier\n",
    "dtc = DecisionTreeClassifier(random_state=42)\n",
    "\n",
    "# Train the Decision Tree Classifier on the training set\n",
    "dtc.fit(X_train_scaled, y_train)\n",
    "\n",
    "# Make predictions using the Decision Tree Classifier\n",
    "y_pred = dtc.predict(X_test_scaled)\n",
    "\n",
    "# Evaluate the performance of the Decision Tree Classifier on the testing set\n",
    "accuracy = dtc.score(X_test_scaled, y_test)\n",
    "print(f'Accuracy: {accuracy}')\n",
    "print(confusion_matrix(y_test, y_pred))"
   ]
  },
  {
   "cell_type": "code",
   "execution_count": 56,
   "id": "1dacdd0d",
   "metadata": {},
   "outputs": [],
   "source": [
    "#copydataset = dataset"
   ]
  },
  {
   "cell_type": "code",
   "execution_count": 57,
   "id": "532710bc",
   "metadata": {},
   "outputs": [],
   "source": [
    "#dataset = dataset.drop(['ORDER_ID','TEMP','SAUCE'], axis=1, inplace=True)"
   ]
  },
  {
   "cell_type": "code",
   "execution_count": 58,
   "id": "e833fb0c",
   "metadata": {},
   "outputs": [],
   "source": [
    "explo_dataset_saved['DATE'] = explo_dataset_saved['DATE'].values.astype(float)"
   ]
  },
  {
   "cell_type": "code",
   "execution_count": 59,
   "id": "f6e566d5",
   "metadata": {
    "scrolled": false
   },
   "outputs": [
    {
     "data": {
      "text/html": [
       "<div>\n",
       "<style scoped>\n",
       "    .dataframe tbody tr th:only-of-type {\n",
       "        vertical-align: middle;\n",
       "    }\n",
       "\n",
       "    .dataframe tbody tr th {\n",
       "        vertical-align: top;\n",
       "    }\n",
       "\n",
       "    .dataframe thead th {\n",
       "        text-align: right;\n",
       "    }\n",
       "</style>\n",
       "<table border=\"1\" class=\"dataframe\">\n",
       "  <thead>\n",
       "    <tr style=\"text-align: right;\">\n",
       "      <th></th>\n",
       "      <th>ORDER_ID</th>\n",
       "      <th>DATE</th>\n",
       "      <th>TIME</th>\n",
       "      <th>MENU_ITEM</th>\n",
       "      <th>MENU_CATEGORY</th>\n",
       "      <th>TEMP</th>\n",
       "      <th>SAUCE</th>\n",
       "      <th>MENU_PRICE</th>\n",
       "      <th>DAY_OF_WEEK</th>\n",
       "      <th>DAY_TYPE</th>\n",
       "      <th>QUANTITY</th>\n",
       "    </tr>\n",
       "  </thead>\n",
       "  <tbody>\n",
       "    <tr>\n",
       "      <th>0</th>\n",
       "      <td>81243</td>\n",
       "      <td>1.677802e+18</td>\n",
       "      <td>LUNCH</td>\n",
       "      <td>PORTERHOUSE</td>\n",
       "      <td>MAIN</td>\n",
       "      <td>M</td>\n",
       "      <td>INCLUDED</td>\n",
       "      <td>98.0</td>\n",
       "      <td>Friday</td>\n",
       "      <td>WEEKDAY</td>\n",
       "      <td>1</td>\n",
       "    </tr>\n",
       "    <tr>\n",
       "      <th>1</th>\n",
       "      <td>81243</td>\n",
       "      <td>1.677802e+18</td>\n",
       "      <td>LUNCH</td>\n",
       "      <td>INCLUDED</td>\n",
       "      <td>MAIN_SIDES</td>\n",
       "      <td>Not Applicable</td>\n",
       "      <td>Not Applicable</td>\n",
       "      <td>0.0</td>\n",
       "      <td>Friday</td>\n",
       "      <td>WEEKDAY</td>\n",
       "      <td>1</td>\n",
       "    </tr>\n",
       "    <tr>\n",
       "      <th>2</th>\n",
       "      <td>82246</td>\n",
       "      <td>1.677802e+18</td>\n",
       "      <td>LUNCH</td>\n",
       "      <td>MEDALLIONS</td>\n",
       "      <td>MAIN</td>\n",
       "      <td>MR</td>\n",
       "      <td>NON_P</td>\n",
       "      <td>32.0</td>\n",
       "      <td>Friday</td>\n",
       "      <td>WEEKDAY</td>\n",
       "      <td>2</td>\n",
       "    </tr>\n",
       "    <tr>\n",
       "      <th>3</th>\n",
       "      <td>82246</td>\n",
       "      <td>1.677802e+18</td>\n",
       "      <td>LUNCH</td>\n",
       "      <td>MEDALLIONS</td>\n",
       "      <td>MAIN</td>\n",
       "      <td>M</td>\n",
       "      <td>NON_P</td>\n",
       "      <td>32.0</td>\n",
       "      <td>Friday</td>\n",
       "      <td>WEEKDAY</td>\n",
       "      <td>2</td>\n",
       "    </tr>\n",
       "    <tr>\n",
       "      <th>4</th>\n",
       "      <td>82246</td>\n",
       "      <td>1.677802e+18</td>\n",
       "      <td>LUNCH</td>\n",
       "      <td>RIBEYE</td>\n",
       "      <td>MAIN</td>\n",
       "      <td>M</td>\n",
       "      <td>BEARNAISE</td>\n",
       "      <td>47.0</td>\n",
       "      <td>Friday</td>\n",
       "      <td>WEEKDAY</td>\n",
       "      <td>2</td>\n",
       "    </tr>\n",
       "  </tbody>\n",
       "</table>\n",
       "</div>"
      ],
      "text/plain": [
       "   ORDER_ID          DATE   TIME    MENU_ITEM MENU_CATEGORY            TEMP  \\\n",
       "0     81243  1.677802e+18  LUNCH  PORTERHOUSE          MAIN               M   \n",
       "1     81243  1.677802e+18  LUNCH     INCLUDED    MAIN_SIDES  Not Applicable   \n",
       "2     82246  1.677802e+18  LUNCH   MEDALLIONS          MAIN              MR   \n",
       "3     82246  1.677802e+18  LUNCH   MEDALLIONS          MAIN               M   \n",
       "4     82246  1.677802e+18  LUNCH       RIBEYE          MAIN               M   \n",
       "\n",
       "            SAUCE  MENU_PRICE DAY_OF_WEEK DAY_TYPE  QUANTITY  \n",
       "0        INCLUDED        98.0      Friday  WEEKDAY         1  \n",
       "1  Not Applicable         0.0      Friday  WEEKDAY         1  \n",
       "2           NON_P        32.0      Friday  WEEKDAY         2  \n",
       "3           NON_P        32.0      Friday  WEEKDAY         2  \n",
       "4       BEARNAISE        47.0      Friday  WEEKDAY         2  "
      ]
     },
     "execution_count": 59,
     "metadata": {},
     "output_type": "execute_result"
    }
   ],
   "source": [
    "explo_dataset_saved.head()"
   ]
  },
  {
   "cell_type": "markdown",
   "id": "31d95be5",
   "metadata": {},
   "source": [
    "# Using the whole dataset to Train the model"
   ]
  },
  {
   "cell_type": "markdown",
   "id": "20ae8a5d",
   "metadata": {},
   "source": [
    "# KNN"
   ]
  },
  {
   "cell_type": "code",
   "execution_count": 65,
   "id": "0317e67b",
   "metadata": {},
   "outputs": [
    {
     "data": {
      "image/png": "[encoded data removed]",
      "text/plain": [
       "<Figure size 720x432 with 2 Axes>"
      ]
     },
     "metadata": {
      "needs_background": "light"
     },
     "output_type": "display_data"
    },
    {
     "name": "stdout",
     "output_type": "stream",
     "text": [
      "Accuracy: 0.8033573141486811\n",
      "              precision    recall  f1-score   support\n",
      "\n",
      "           1       0.84      0.95      0.89       331\n",
      "           2       0.71      0.20      0.31        61\n",
      "           3       0.00      0.00      0.00        13\n",
      "           4       0.43      0.55      0.48        11\n",
      "           5       0.50      1.00      0.67         1\n",
      "\n",
      "    accuracy                           0.80       417\n",
      "   macro avg       0.49      0.54      0.47       417\n",
      "weighted avg       0.78      0.80      0.77       417\n",
      "\n"
     ]
    }
   ],
   "source": [
    "le = LabelEncoder()\n",
    "explo_dataset_saved['MENU_CATEGORY'] = le.fit_transform(explo_dataset_saved['MENU_CATEGORY'])\n",
    "explo_dataset_saved['DAY_OF_WEEK'] = le.fit_transform(explo_dataset_saved['DAY_OF_WEEK'])\n",
    "explo_dataset_saved['SAUCE'] = le.fit_transform(explo_dataset_saved['SAUCE'])\n",
    "explo_dataset_saved['TEMP'] = le.fit_transform(explo_dataset_saved['TEMP'])\n",
    "explo_dataset_saved['MENU_ITEM'] = le.fit_transform(explo_dataset_saved['MENU_ITEM'])\n",
    "explo_dataset_saved['TIME'] = le.fit_transform(explo_dataset_saved['TIME'])\n",
    "\n",
    "#Split the dataset into training and testing sets:\n",
    "\n",
    "X = explo_dataset_saved.drop(['QUANTITY','DAY_TYPE','TEMP'], axis=1)  # independent variables\n",
    "y = explo_dataset_saved['QUANTITY']  # dependent variable\n",
    "X_train, X_test, y_train, y_test = train_test_split(X, y, test_size=0.2, random_state=72)\n",
    "#Train the kNN model with the training set:\n",
    "\n",
    "k = 5  # choose the number of neighbors to consider\n",
    "knn = KNeighborsClassifier(n_neighbors=k)\n",
    "knn.fit(X_train, y_train)\n",
    "#Evaluate the performance of the model with the testing set:\n",
    "conf_matrix = confusion_matrix(y_test, y_pred)\n",
    "\n",
    "# Set the figure size\n",
    "plt.figure(figsize=(10,6))\n",
    "\n",
    "# Plot the confusion matrix using seaborn heatmap\n",
    "sns.heatmap(conf_matrix, annot=True, cmap='Blues')\n",
    "\n",
    "# Add labels, title and ticks\n",
    "plt.xlabel('Predicted')\n",
    "plt.ylabel('True')\n",
    "plt.title('Confusion Matrix')\n",
    "\n",
    "\n",
    "plt.show()\n",
    "\n",
    "\n",
    "\n",
    "accuracy = knn.score(X_test, y_test)\n",
    "print(f'Accuracy: {accuracy}')\n",
    "y_pred = knn.predict(X_test)\n",
    "print(classification_report(y_test, y_pred))"
   ]
  },
  {
   "cell_type": "markdown",
   "id": "3b41f977",
   "metadata": {},
   "source": [
    "# Random Forest Regressor"
   ]
  },
  {
   "cell_type": "code",
   "execution_count": 68,
   "id": "8708d9f6",
   "metadata": {},
   "outputs": [
    {
     "name": "stdout",
     "output_type": "stream",
     "text": [
      "R^2 Score: 0.5304656350202147\n",
      "RMSE: 0.46390259030010605\n"
     ]
    }
   ],
   "source": [
    "\n",
    "\n",
    "# Train the random forest model with the training set\n",
    "n_estimators = 9  # choose the number of trees in the forest\n",
    "rf = RandomForestRegressor(n_estimators=n_estimators)\n",
    "rf.fit(X_train, y_train)\n",
    "\n",
    "# Evaluate the performance of the model with the testing set\n",
    "rf_score = rf.score(X_test, y_test)\n",
    "print(f'R^2 Score: {rf_score}')\n",
    "\n",
    "# Make predictions on the testing set\n",
    "rf_predictions = rf.predict(X_test)\n",
    "\n",
    "\n",
    "# Evaluate the predictions\n",
    "rf_rmse = mean_squared_error(y_test, rf_predictions, squared=False)\n",
    "print(f\"RMSE: {rf_rmse}\")"
   ]
  },
  {
   "cell_type": "markdown",
   "id": "21ed7058",
   "metadata": {},
   "source": [
    "# DecisionTreeClassifier"
   ]
  },
  {
   "cell_type": "code",
   "execution_count": 94,
   "id": "0bd4dede",
   "metadata": {},
   "outputs": [
    {
     "name": "stdout",
     "output_type": "stream",
     "text": [
      "Accuracy: 0.0\n",
      "RMSE: 22.638462845343543\n",
      "R² Score: -1.1331945889698232\n"
     ]
    }
   ],
   "source": [
    "# Create an instance of the DecisionTreeClassifier\n",
    "dtc = DecisionTreeClassifier()\n",
    "\n",
    "# Fit the model to the training data\n",
    "dtc.fit(X_train, y_train)\n",
    "\n",
    "# Make predictions on the testing data\n",
    "y_pred = dtc.predict(X_test)\n",
    "\n",
    "# Calculate the accuracy\n",
    "accuracy = accuracy_score(y_test, y_pred)\n",
    "print(f'Accuracy: {accuracy}')\n",
    "\n",
    "# Calculate the RMSE\n",
    "rmse = mean_squared_error(y_test, y_pred, squared=False)\n",
    "print(f'RMSE: {rmse}')\n",
    "\n",
    "# Calculate the R² score\n",
    "r2 = r2_score(y_test, y_pred)\n",
    "print(f'R² Score: {r2}')\n",
    "\n",
    "\n"
   ]
  },
  {
   "cell_type": "markdown",
   "id": "9ed09129",
   "metadata": {},
   "source": [
    "# Decision Tree Regressor"
   ]
  },
  {
   "cell_type": "code",
   "execution_count": 106,
   "id": "b97c7afa",
   "metadata": {},
   "outputs": [
    {
     "name": "stdout",
     "output_type": "stream",
     "text": [
      "RMSE: 0.9425374773519781\n",
      "R² Score: -0.27089067598075056\n"
     ]
    }
   ],
   "source": [
    "# Create an instance of the DecisionTreeRegressor\n",
    "dtr = DecisionTreeRegressor()\n",
    "\n",
    "# Fit the model to the training data\n",
    "dtr.fit(X_train, y_train)\n",
    "\n",
    "# Make predictions on the testing data\n",
    "y_pred = dtr.predict(X_test)\n",
    "\n",
    "# Calculate the RMSE\n",
    "rmse = mean_squared_error(y_test, y_pred, squared=False)\n",
    "print(f'RMSE: {rmse}')\n",
    "\n",
    "# Calculate the R² score\n",
    "r2 = r2_score(y_test, y_pred)\n",
    "print(f'R² Score: {r2}')"
   ]
  },
  {
   "cell_type": "markdown",
   "id": "c8532004",
   "metadata": {},
   "source": [
    "# Time series "
   ]
  },
  {
   "cell_type": "code",
   "execution_count": null,
   "id": "ab9e0795",
   "metadata": {},
   "outputs": [],
   "source": [
    "dataset.head()"
   ]
  },
  {
   "cell_type": "markdown",
   "id": "a75b3e44",
   "metadata": {},
   "source": [
    "## RandomForestRegressor"
   ]
  },
  {
   "cell_type": "code",
   "execution_count": 79,
   "id": "476b69b6",
   "metadata": {},
   "outputs": [
    {
     "data": {
      "image/png": "[encoded data removed]",
      "text/plain": [
       "<Figure size 432x288 with 1 Axes>"
      ]
     },
     "metadata": {
      "needs_background": "light"
     },
     "output_type": "display_data"
    },
    {
     "name": "stdout",
     "output_type": "stream",
     "text": [
      "Last Data Point: 45\n",
      "Forecast for 2023-03-10: [37.22]\n",
      "RMSE: 3.537523346717507\n"
     ]
    }
   ],
   "source": [
    "import pandas as pd\n",
    "\n",
    "from sklearn.model_selection import train_test_split\n",
    "\n",
    "\n",
    "#Read the dataset into a DataFrame\n",
    "data = pd.read_csv(\"explo_dataset_saved.csv\")\n",
    "\n",
    "le = LabelEncoder()\n",
    "data['DAY_OF_WEEK'] = le.fit_transform(data['DAY_OF_WEEK'])\n",
    "data['MENU_CATEGORY'] = le.fit_transform(data['MENU_CATEGORY'])\n",
    "\n",
    "# Convert the \"DATE\" column to datetime type\n",
    "data[\"DATE\"] = pd.to_datetime(data[\"DATE\"])\n",
    "\n",
    "# Aggregate the data by date and sum the quantities for each menu item\n",
    "daily_data = data.groupby([\"DATE\", \"MENU_ITEM\"])[\"QUANTITY\"].sum().reset_index()\n",
    "\n",
    "# Select the specific menu item for analysis\n",
    "menu_item = \"MASH\"\n",
    "menu_data = daily_data[daily_data[\"MENU_ITEM\"] == menu_item]\n",
    "\n",
    "# Sort the data by date\n",
    "menu_data = menu_data.sort_values(\"DATE\")\n",
    "\n",
    "# Calculate the moving average\n",
    "menu_data[\"MA\"] = menu_data[\"QUANTITY\"].rolling(window=7).mean()\n",
    "\n",
    "# Prepare the data for Random Forests\n",
    "X = menu_data[\"DATE\"].apply(lambda x: x.toordinal()).values.reshape(-1, 1)\n",
    "y = menu_data[\"QUANTITY\"].values\n",
    "\n",
    "# Train the Random Forest model\n",
    "n_estimators = 100  # choose the number of trees in the forest\n",
    "rf = RandomForestRegressor(n_estimators=n_estimators)\n",
    "rf.fit(X, y)\n",
    "\n",
    "# Plot the actual data and the moving average\n",
    "plt.plot(menu_data[\"DATE\"], menu_data[\"QUANTITY\"], label=\"Actual\")\n",
    "\n",
    "\n",
    "# Get the most recent data point for forecasting\n",
    "last_date = menu_data.iloc[-1][\"DATE\"]\n",
    "last_data_point = menu_data.iloc[-1][\"QUANTITY\"]\n",
    "\n",
    "# Forecast the next day's quantity using RandomForestRegressor\n",
    "next_date = last_date + pd.DateOffset(days=1)\n",
    "next_date_ordinal = next_date.toordinal()  # Convert to ordinal value\n",
    "forecast = rf.predict([[next_date_ordinal]])\n",
    "\n",
    "# Plot the forecasted value\n",
    "plt.plot(forecast_date, forecast, marker=\"o\", color=\"red\", label=\"Forecast\")\n",
    "\n",
    "plt.xlabel(\"Date\")\n",
    "plt.ylabel(\"Quantity\")\n",
    "plt.title(f\"Menu Item: {menu_item} - Daily Quantity\")\n",
    "plt.xticks(rotation=90)\n",
    "plt.legend()\n",
    "plt.show()\n",
    "\n",
    "print(f\"Last Data Point: {last_data_point}\")\n",
    "print(f\"Forecast for {forecast_date.date()}: {forecast}\")\n",
    "\n",
    "\n",
    "# Calculate RMSE\n",
    "actual_values = menu_data[\"QUANTITY\"].values[-7:]\n",
    "forecast_values = rf.predict(X[-7:])\n",
    "rmse = np.sqrt(mean_squared_error(actual_values, forecast_values))\n",
    "print(f\"RMSE: {rmse}\")"
   ]
  },
  {
   "cell_type": "markdown",
   "id": "e057caa6",
   "metadata": {},
   "source": []
  },
  {
   "cell_type": "markdown",
   "id": "52f24547",
   "metadata": {},
   "source": [
    "## Predicting Using Moving Average "
   ]
  },
  {
   "cell_type": "code",
   "execution_count": 89,
   "id": "6cb965d8",
   "metadata": {},
   "outputs": [
    {
     "data": {
      "image/png": "[encoded data removed]",
      "text/plain": [
       "<Figure size 432x288 with 1 Axes>"
      ]
     },
     "metadata": {
      "needs_background": "light"
     },
     "output_type": "display_data"
    },
    {
     "name": "stdout",
     "output_type": "stream",
     "text": [
      "Last Data Point: 45\n",
      "Forecast for 2023-03-10: 19.142857142857142\n"
     ]
    }
   ],
   "source": [
    "import pandas as pd\n",
    "from datetime import datetime, timedelta\n",
    "import matplotlib.pyplot as plt\n",
    "\n",
    "# Read the dataset into a DataFrame\n",
    "data = pd.read_csv(\"explo_dataset_saved.csv\")\n",
    "\n",
    "# Convert the \"DATE\" column to datetime type\n",
    "data[\"DATE\"] = pd.to_datetime(data[\"DATE\"])\n",
    "\n",
    "# Aggregate the data by date and sum the quantities for each menu item\n",
    "daily_data = data.groupby([\"DATE\", \"MENU_ITEM\"])[\"QUANTITY\"].sum().reset_index()\n",
    "\n",
    "# Select the specific menu item for analysis\n",
    "menu_item = \"MASH\"\n",
    "menu_data = daily_data[daily_data[\"MENU_ITEM\"] == menu_item]\n",
    "\n",
    "# Sort the data by date\n",
    "menu_data = menu_data.sort_values(\"DATE\")\n",
    "\n",
    "# Calculate the moving average\n",
    "menu_data[\"MA\"] = menu_data[\"QUANTITY\"].rolling(window=7).mean()\n",
    "\n",
    "# Plot the actual data and the moving average\n",
    "plt.plot(menu_data[\"DATE\"], menu_data[\"QUANTITY\"], label=\"Actual\")\n",
    "plt.plot(menu_data[\"DATE\"], menu_data[\"MA\"], label=\"Moving Average\")\n",
    "plt.xlabel(\"Date\")\n",
    "plt.ylabel(\"Quantity\")\n",
    "plt.title(f\"Menu Item: {menu_item} - Daily Quantity\")\n",
    "plt.legend()\n",
    "\n",
    "# Get the most recent data point for forecasting\n",
    "last_date = menu_data.iloc[-1][\"DATE\"]\n",
    "last_data_point = menu_data.iloc[-1][\"QUANTITY\"]\n",
    "\n",
    "# Forecast the next day's quantity using the moving average\n",
    "forecast_date = last_date + timedelta(days=1)\n",
    "forecast = menu_data[\"MA\"].iloc[-1]\n",
    "\n",
    "# Plot the forecasted value\n",
    "plt.plot(forecast_date, forecast, marker=\"o\", color=\"red\", label=\"Forecast\")\n",
    "plt.xticks(rotation=90)\n",
    "\n",
    "plt.show()\n",
    "\n",
    "print(f\"Last Data Point: {last_data_point}\")\n",
    "print(f\"Forecast for {forecast_date.date()}: {forecast}\")"
   ]
  },
  {
   "cell_type": "markdown",
   "id": "d658bb28",
   "metadata": {},
   "source": [
    "## ARIMA Model"
   ]
  },
  {
   "cell_type": "code",
   "execution_count": 63,
   "id": "eb0a1ce4",
   "metadata": {},
   "outputs": [
    {
     "data": {
      "image/png": "[encoded data removed]",
      "text/plain": [
       "<Figure size 432x288 with 1 Axes>"
      ]
     },
     "metadata": {
      "needs_background": "light"
     },
     "output_type": "display_data"
    },
    {
     "name": "stdout",
     "output_type": "stream",
     "text": [
      "Last Data Point: 45\n",
      "Forecast for 2023-03-10: 38.3640306691016\n",
      "RMSE: 19.3937034751342\n"
     ]
    }
   ],
   "source": [
    "\n",
    "import pandas as pd\n",
    "from datetime import datetime, timedelta\n",
    "import matplotlib.pyplot as plt\n",
    "from statsmodels.tsa.arima.model import ARIMA\n",
    "from sklearn.metrics import mean_squared_error\n",
    "import numpy as np\n",
    "\n",
    "# Read the dataset into a DataFrame\n",
    "data = pd.read_csv(\"explo_dataset_saved.csv\")\n",
    "\n",
    "# Convert the \"DATE\" column to datetime type\n",
    "data[\"DATE\"] = pd.to_datetime(data[\"DATE\"])\n",
    "\n",
    "# Aggregate the data by date and sum the quantities for each menu item\n",
    "daily_data = data.groupby([\"DATE\", \"MENU_ITEM\"])[\"QUANTITY\"].sum().reset_index()\n",
    "\n",
    "# Select the specific menu item for analysis\n",
    "menu_item = \"MASH\"\n",
    "menu_data = daily_data[daily_data[\"MENU_ITEM\"] == menu_item]\n",
    "\n",
    "# Sort the data by date\n",
    "menu_data = menu_data.sort_values(\"DATE\")\n",
    "\n",
    "# Calculate the moving average\n",
    "menu_data[\"MA\"] = menu_data[\"QUANTITY\"].rolling(window=7).mean()\n",
    "\n",
    "# Plot the actual data and the moving average\n",
    "plt.plot(menu_data[\"DATE\"], menu_data[\"QUANTITY\"], label=\"Actual\")\n",
    "plt.plot(menu_data[\"DATE\"], menu_data[\"MA\"], label=\"Moving Average\")\n",
    "plt.xlabel(\"Date\")\n",
    "plt.ylabel(\"Quantity\")\n",
    "plt.title(f\"Menu Item: {menu_item} - Daily Quantity\")\n",
    "plt.legend()\n",
    "\n",
    "# Get the most recent data point for forecasting\n",
    "last_date = menu_data.iloc[-1][\"DATE\"]\n",
    "last_data_point = menu_data.iloc[-1][\"QUANTITY\"]\n",
    "\n",
    "\n",
    "# Convert the quantity column to a Series with the date as index\n",
    "series = pd.Series(menu_data[\"QUANTITY\"].values, index=menu_data[\"DATE\"])\n",
    "\n",
    "# Fit the ARIMA model\n",
    "model = ARIMA(series, order=(1, 1, 1))\n",
    "model_fit = model.fit()\n",
    "\n",
    "# Forecast the next day's quantity using ARIMA\n",
    "forecast_date = last_date + timedelta(days=1)\n",
    "forecast = model_fit.forecast(steps=1)[0]\n",
    "\n",
    "# Plot the forecasted value\n",
    "plt.plot(forecast_date, forecast, marker=\"o\", color=\"red\", label=\"Forecast\")\n",
    "plt.xticks(rotation=90)\n",
    "\n",
    "plt.show()\n",
    "\n",
    "print(f\"Last Data Point: {last_data_point}\")\n",
    "print(f\"Forecast for {forecast_date.date()}: {forecast}\")\n",
    "\n",
    "\n",
    "# Calculate RMSE\n",
    "actual_values = menu_data[\"QUANTITY\"].values[-7:]\n",
    "forecast_values = model_fit.predict(start=len(menu_data), end=len(menu_data) + 6)\n",
    "rmse = np.sqrt(mean_squared_error(actual_values, forecast_values))\n",
    "print(f\"RMSE: {rmse}\")"
   ]
  },
  {
   "cell_type": "markdown",
   "id": "6ae5dfee",
   "metadata": {},
   "source": [
    "# Decision Tree Regression model"
   ]
  },
  {
   "cell_type": "code",
   "execution_count": 93,
   "id": "56b71c86",
   "metadata": {},
   "outputs": [
    {
     "data": {
      "image/png": "[encoded data removed]",
      "text/plain": [
       "<Figure size 432x288 with 1 Axes>"
      ]
     },
     "metadata": {
      "needs_background": "light"
     },
     "output_type": "display_data"
    },
    {
     "name": "stdout",
     "output_type": "stream",
     "text": [
      "Last Data Point: 45\n",
      "Forecast for 2023-03-10: [13.]\n",
      "RMSE: 22.638462845343543\n"
     ]
    }
   ],
   "source": [
    "\n",
    "data = pd.read_csv(\"explo_dataset_saved.csv\")\n",
    "\n",
    "le = LabelEncoder()\n",
    "data['DAY_OF_WEEK'] = le.fit_transform(data['DAY_OF_WEEK'])\n",
    "data['MENU_CATEGORY'] = le.fit_transform(data['MENU_CATEGORY'])\n",
    "\n",
    "# Convert the \"DATE\" column to datetime type\n",
    "data[\"DATE\"] = pd.to_datetime(data[\"DATE\"])\n",
    "\n",
    "# Aggregate the data by date and sum the quantities for each menu item\n",
    "daily_data = data.groupby([\"DATE\", \"MENU_ITEM\"])[\"QUANTITY\"].sum().reset_index()\n",
    "\n",
    "# Select the specific menu item for analysis\n",
    "menu_item = \"MASH\"\n",
    "menu_data = daily_data[daily_data[\"MENU_ITEM\"] == menu_item]\n",
    "\n",
    "# Sort the data by date\n",
    "menu_data = menu_data.sort_values(\"DATE\")\n",
    "\n",
    "# Calculate the moving average\n",
    "menu_data[\"MA\"] = menu_data[\"QUANTITY\"].rolling(window=7).mean()\n",
    "\n",
    "# Prepare the data for Decision Tree Regression\n",
    "X = menu_data[\"DATE\"].apply(lambda x: x.toordinal()).values.reshape(-1, 1)\n",
    "y = menu_data[\"QUANTITY\"].values\n",
    "\n",
    "# Split the data into training and testing sets\n",
    "X_train, X_test, y_train, y_test = train_test_split(X, y, test_size=0.2, shuffle=False)\n",
    "\n",
    "# Train the Decision Tree model\n",
    "dt = DecisionTreeRegressor()\n",
    "dt.fit(X_train, y_train)\n",
    "\n",
    "# Plot the actual data\n",
    "plt.plot(menu_data[\"DATE\"], menu_data[\"QUANTITY\"], label=\"Actual\")\n",
    "\n",
    "# Get the next date after the last data point\n",
    "next_date = menu_data[\"DATE\"].max() + pd.DateOffset(days=1)\n",
    "next_date_ordinal = next_date.toordinal()  # Convert to ordinal value\n",
    "\n",
    "# Forecast the next day's quantity using DecisionTreeRegressor\n",
    "forecast = dt.predict([[next_date_ordinal]])\n",
    "\n",
    "# Plot the forecasted value\n",
    "plt.plot(next_date, forecast, marker=\"o\", color=\"red\", label=\"Forecast\")\n",
    "\n",
    "plt.xlabel(\"Date\")\n",
    "plt.ylabel(\"Quantity\")\n",
    "plt.title(f\"Menu Item: {menu_item} - Daily Quantity\")\n",
    "plt.xticks(rotation=90)\n",
    "plt.legend()\n",
    "plt.show()\n",
    "\n",
    "print(f\"Last Data Point: {menu_data['QUANTITY'].iloc[-1]}\")\n",
    "print(f\"Forecast for {next_date.date()}: {forecast}\")\n",
    "\n",
    "# Calculate RMSE on the testing set\n",
    "y_test_pred = dt.predict(X_test)\n",
    "rmse = mean_squared_error(y_test, y_test_pred, squared=False)\n",
    "print(f\"RMSE: {rmse}\")"
   ]
  },
  {
   "cell_type": "code",
   "execution_count": null,
   "id": "e0854c06",
   "metadata": {},
   "outputs": [],
   "source": []
  }
 ],
 "metadata": {
  "kernelspec": {
   "display_name": "Python 3 (ipykernel)",
   "language": "python",
   "name": "python3"
  },
  "language_info": {
   "codemirror_mode": {
    "name": "ipython",
    "version": 3
   },
   "file_extension": ".py",
   "mimetype": "text/x-python",
   "name": "python",
   "nbconvert_exporter": "python",
   "pygments_lexer": "ipython3",
   "version": "3.9.12"
  }
 },
 "nbformat": 4,
 "nbformat_minor": 5
}
